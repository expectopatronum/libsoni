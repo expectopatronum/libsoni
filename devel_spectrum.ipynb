{
 "cells": [
  {
   "cell_type": "markdown",
   "id": "bd0baf29",
   "metadata": {},
   "source": [
    "# Sonification of Spectograms (work in progress)"
   ]
  },
  {
   "cell_type": "code",
   "execution_count": null,
   "id": "3d488d70",
   "metadata": {},
   "outputs": [],
   "source": [
    "import librosa\n",
    "import librosa.display\n",
    "import numpy as np\n",
    "import os\n",
    "from IPython import display as ipd\n",
    "import matplotlib.pyplot as plt\n",
    "\n",
    "%matplotlib inline"
   ]
  },
  {
   "cell_type": "markdown",
   "id": "9915b4d8",
   "metadata": {},
   "source": [
    "## Sound Example"
   ]
  },
  {
   "cell_type": "code",
   "execution_count": null,
   "id": "a0bef90a",
   "metadata": {},
   "outputs": [],
   "source": [
    "x, Fs = librosa.load(os.path.join('data_audio','samples','01Pia1F060f_np___0.wav'))\n",
    "print('Original Audio:')\n",
    "ipd.display(ipd.Audio(x, rate=Fs))"
   ]
  },
  {
   "cell_type": "markdown",
   "id": "2c61c79a",
   "metadata": {},
   "source": [
    "## Performing STFT"
   ]
  },
  {
   "cell_type": "code",
   "execution_count": null,
   "id": "3df05162",
   "metadata": {},
   "outputs": [],
   "source": [
    "N = 2048\n",
    "H = 64\n",
    "\n",
    "color = 'gray_r' \n",
    "\n",
    "X = librosa.stft(x, n_fft=N, hop_length=H, win_length=N, window='hann', pad_mode='constant', center=True)\n",
    "\n",
    "Y = np.log(1 + 100 * np.abs(X) ** 2)\n",
    "\n",
    "T_coef = np.arange(X.shape[1]) * H / Fs\n",
    "T_coef_librosa = librosa.frames_to_time(np.arange(X.shape[1]), sr=Fs, hop_length=H)\n",
    "\n",
    "K = N // 2\n",
    "F_coef = np.arange(K+1) * Fs / N\n",
    "F_coef_librosa = librosa.fft_frequencies(sr=Fs, n_fft=N)\n",
    "\n",
    "plt.figure(figsize=(6, 3))\n",
    "extent = [T_coef[0], T_coef[-1], F_coef[0], F_coef[-1]]\n",
    "plt.imshow(Y, cmap=color, aspect='auto', origin='lower', extent=extent)\n",
    "plt.xlabel('Time (seconds)')\n",
    "plt.ylabel('Frequency (Hz)')\n",
    "plt.colorbar()\n",
    "plt.tight_layout()\n",
    "plt.show()"
   ]
  },
  {
   "cell_type": "code",
   "execution_count": null,
   "id": "7dc90110",
   "metadata": {},
   "outputs": [],
   "source": [
    "\n",
    "plt.imshow(np.log(1+np.abs(X)), cmap=color, aspect='auto', origin='lower', extent=extent)\n",
    "plt.xlabel('Time (seconds)')\n",
    "plt.ylabel('Frequency (Hz)')\n",
    "plt.colorbar()\n",
    "plt.tight_layout()\n",
    "plt.show()"
   ]
  },
  {
   "cell_type": "markdown",
   "id": "5b39d3bb",
   "metadata": {},
   "source": [
    "## Sonification via Inverse STFT"
   ]
  },
  {
   "cell_type": "code",
   "execution_count": null,
   "id": "28a33d8f",
   "metadata": {},
   "outputs": [],
   "source": [
    "def sonify_spectrum_via_istft(stft, hop_size):\n",
    "    return librosa.istft(stft, hop_length=hop_size)"
   ]
  },
  {
   "cell_type": "code",
   "execution_count": null,
   "id": "13227796",
   "metadata": {},
   "outputs": [],
   "source": [
    "Y = np.angle(X)\n",
    "sonified_spectrum = sonify_spectrum_via_istft(Y, H)\n",
    "\n",
    "print('Sonified Spectrum:')\n",
    "ipd.display(ipd.Audio(sonified_spectrum, rate=Fs))"
   ]
  },
  {
   "cell_type": "markdown",
   "id": "302526ad",
   "metadata": {},
   "source": [
    "## Sonification via column-wise inverse FFT"
   ]
  },
  {
   "cell_type": "code",
   "execution_count": null,
   "id": "1f64464c",
   "metadata": {},
   "outputs": [],
   "source": [
    "def sonify_spectrum_via_columnwise_fft(stft, hop_size, n_fft):\n",
    "    \n",
    "    sonified_spectrum = np.zeros(int((stft.shape[1]-1) * hop_size + n_fft))\n",
    "    \n",
    "    \n",
    "    # Iterate through each frame in the STFT\n",
    "    for t in range(stft.shape[1]):\n",
    "        \n",
    "        # Inverse STFT: Reconstruct the time-domain signal for each frame\n",
    "        frame = np.fft.irfft(stft[:, t], n=n_fft)\n",
    "        \n",
    "        # Add to the reconstructed audio\n",
    "        start = t * hop_size\n",
    "        end = start + n_fft\n",
    "        sonified_spectrum[start:end] += frame\n",
    "    \n",
    "    # Normalize the reconstructed audio to prevent clipping\n",
    "    sonified_spectrum /= np.max(np.abs(sonified_spectrum))\n",
    "        \n",
    "    return sonified_spectrum"
   ]
  },
  {
   "cell_type": "code",
   "execution_count": null,
   "id": "bc11e604",
   "metadata": {},
   "outputs": [],
   "source": [
    "sonified_spectrum = sonify_spectrum_via_columnwise_fft(X, H, N)\n",
    "\n",
    "print('Sonified Spectrum:')\n",
    "ipd.display(ipd.Audio(sonified_spectrum, rate=Fs))"
   ]
  },
  {
   "cell_type": "markdown",
   "id": "1c27708d",
   "metadata": {},
   "source": [
    "## Sonification via bin-wise sinusoidals"
   ]
  },
  {
   "cell_type": "code",
   "execution_count": null,
   "id": "185b0199",
   "metadata": {},
   "outputs": [],
   "source": [
    "def sonify_spectrum_via_binwise_sinusoidals(stft, hop_size, n_fft, sample_rate):\n",
    "    \n",
    "    # Initialize an array to store the reconstructed audio\n",
    "    sonified_spectrum = np.zeros(int((stft.shape[1]-1) * hop_size + n_fft))\n",
    "\n",
    "    \n",
    "    # Iterate through each column in the STFT\n",
    "    for t in range(stft.shape[1]):\n",
    "        \n",
    "        # Initialize the frame's audio as all zeros\n",
    "        frame_audio = np.zeros(n_fft)\n",
    "        \n",
    "        # Iterate through each frequency bin in the STFT\n",
    "        for f in range(stft.shape[0]):\n",
    "            \n",
    "            # Get magnitude and phase for the current bin\n",
    "            magnitude = np.abs(stft[f, t])\n",
    "            phase = np.angle(stft[f, t])\n",
    "            \n",
    "            # Calculate the frequency in Hz for the current bin\n",
    "            frequency = f * sample_rate / n_fft\n",
    "    \n",
    "            # Generate a sinusoid for the current bin\n",
    "            sinusoid = magnitude * np.sin(2 * np.pi * frequency * (np.arange(n_fft) / sample_rate) + phase)\n",
    "            \n",
    "            # Add the sinusoid to the frame's audio\n",
    "            frame_audio += sinusoid\n",
    "        \n",
    "        # Overlap and add the frame's audio to the reconstructed audio\n",
    "        start = t * hop_size\n",
    "        end = start + n_fft\n",
    "        if end <= len(sonified_spectrum):\n",
    "            sonified_spectrum[start:end] += np.real(frame_audio)  # Use real part for audio synthesis\n",
    "    \n",
    "    # Normalize the reconstructed audio to prevent clipping\n",
    "    sonified_spectrum /= np.max(np.abs(sonified_spectrum))\n",
    "\n",
    "    return sonified_spectrum"
   ]
  },
  {
   "cell_type": "code",
   "execution_count": null,
   "id": "173cf355",
   "metadata": {},
   "outputs": [],
   "source": [
    "sonified_spectrum = sonify_spectrum_via_binwise_sinusoidals(X, H, N, Fs)\n",
    "\n",
    "print('Sonified Spectrum:')\n",
    "ipd.display(ipd.Audio(sonified_spectrum, rate=Fs))"
   ]
  },
  {
   "cell_type": "code",
   "execution_count": null,
   "id": "6b2373ec",
   "metadata": {},
   "outputs": [],
   "source": [
    "S = librosa.feature.melspectrogram(y=x, sr=Fs, n_mels=2048,\n",
    "                                    fmax=int(Fs/2))\n",
    "fig, ax = plt.subplots()\n",
    "S_dB = librosa.power_to_db(S, ref=np.max)\n",
    "img = librosa.display.specshow(S_dB, x_axis='time',\n",
    "                         y_axis='mel', sr=Fs,\n",
    "                        fmax=8000, ax=ax)\n",
    "fig.colorbar(img, ax=ax, format='%+2.0f dB')\n",
    "ax.set(title='Mel-frequency spectrogram')\n",
    "\n",
    "\n",
    "n_fft = 2048  # FFT window size (adjust as needed)\n",
    "hop_length = 512  # Hop size (adjust as needed)\n",
    "\n",
    "# Inverse Mel Filterbank\n",
    "power_spectrogram = librosa.feature.inverse.mel_to_stft(S)\n",
    "\n",
    "# Inverse STFT to obtain the time-domain audio signal\n",
    "audio_signal = librosa.istft(power_spectrogram, hop_length=hop_length, win_length=n_fft)\n",
    "\n",
    "# Normalize the reconstructed audio to prevent clipping\n",
    "audio_signal /= np.max(np.abs(audio_signal))\n",
    "ipd.display(ipd.Audio(audio_signal, rate=Fs))\n"
   ]
  }
 ],
 "metadata": {
  "kernelspec": {
   "display_name": "Python 3 (ipykernel)",
   "language": "python",
   "name": "python3"
  },
  "language_info": {
   "codemirror_mode": {
    "name": "ipython",
    "version": 3
   },
   "file_extension": ".py",
   "mimetype": "text/x-python",
   "name": "python",
   "nbconvert_exporter": "python",
   "pygments_lexer": "ipython3",
   "version": "3.8.17"
  }
 },
 "nbformat": 4,
 "nbformat_minor": 5
}
