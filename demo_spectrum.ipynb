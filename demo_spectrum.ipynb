{
 "cells": [
  {
   "cell_type": "markdown",
   "id": "bd0baf29",
   "metadata": {},
   "source": [
    "# Sonification of Spectograms (work in progress)"
   ]
  },
  {
   "cell_type": "code",
   "execution_count": null,
   "id": "3d488d70",
   "metadata": {},
   "outputs": [],
   "source": [
    "import librosa\n",
    "import librosa.display\n",
    "import libfmp\n",
    "import numpy as np\n",
    "import os\n",
    "from IPython import display as ipd\n",
    "import matplotlib.pyplot as plt\n",
    "\n",
    "from libsoni.core.spectrum import sonify_spectrum\n",
    "\n",
    "%matplotlib inline\n",
    "Fs = 22050"
   ]
  },
  {
   "cell_type": "markdown",
   "id": "9915b4d8",
   "metadata": {},
   "source": [
    "## Sound Example"
   ]
  },
  {
   "cell_type": "code",
   "execution_count": null,
   "id": "a0bef90a",
   "metadata": {},
   "outputs": [],
   "source": [
    "x, Fs = librosa.load(os.path.join('data_audio','samples','01Pia1F060f_np___0.wav'))\n",
    "print('Original Audio:')\n",
    "ipd.display(ipd.Audio(x, rate=Fs))"
   ]
  },
  {
   "cell_type": "markdown",
   "id": "2c61c79a",
   "metadata": {},
   "source": [
    "## Performing STFT"
   ]
  },
  {
   "cell_type": "code",
   "execution_count": null,
   "id": "3df05162",
   "metadata": {},
   "outputs": [],
   "source": [
    "N = 128*8\n",
    "H = int(N/2)\n",
    "\n",
    "color = 'gray_r' \n",
    "\n",
    "X = librosa.stft(x, n_fft=N, hop_length=H, win_length=N, window='hann', pad_mode='constant', center=True)\n",
    "\n",
    "Y = np.log(1 + 100 * np.abs(X) ** 2)\n",
    "\n",
    "T_coef = np.arange(X.shape[1]) * H / Fs\n",
    "T_coef_librosa = librosa.frames_to_time(np.arange(X.shape[1]), sr=Fs, hop_length=H)\n",
    "\n",
    "K = N // 2\n",
    "F_coef = np.arange(K+1) * Fs / N\n",
    "F_coef_librosa = librosa.fft_frequencies(sr=Fs, n_fft=N)\n",
    "\n",
    "plt.figure(figsize=(6, 3))\n",
    "extent = [T_coef[0], T_coef[-1], F_coef[0], F_coef[-1]]\n",
    "plt.imshow(Y, cmap=color, aspect='auto', origin='lower', extent=extent)\n",
    "plt.xlabel('Time (seconds)')\n",
    "plt.ylabel('Frequency (Hz)')\n",
    "plt.colorbar()\n",
    "plt.tight_layout()\n",
    "plt.show()"
   ]
  },
  {
   "cell_type": "code",
   "execution_count": null,
   "id": "5650d2bf",
   "metadata": {},
   "outputs": [],
   "source": [
    "Y_soni = sonify_spectrum(Y, F_coef, T_coef)\n",
    "ipd.display(ipd.Audio(Y_soni, rate = Fs))"
   ]
  },
  {
   "cell_type": "markdown",
   "id": "86ac06bb",
   "metadata": {},
   "source": [
    "## Scenario: *Frühlingstraum (Dream of Spring)* by *Franz Schubert*\n",
    "<img src=\"figures/demo_spectrum/FMP_B_Sonify_Pitch_Schubert_D911-11_A.png\" alt=\"Frühlingstraum\" width=\"600\">"
   ]
  },
  {
   "cell_type": "code",
   "execution_count": null,
   "id": "dd9e9a4a",
   "metadata": {},
   "outputs": [],
   "source": [
    "# Log-frequency spectrogrm from audio recording\n",
    "schubert_audio, Fs = librosa.load(os.path.join('data_audio', 'demo_spectrum', 'FMP_B_Sonify_Pitch_Schubert_D911-11_SC06.wav'), sr=Fs)\n",
    "\n",
    "H = 512*2\n",
    "X_CQT = np.abs(librosa.cqt(y=schubert_audio, sr=Fs, hop_length=H,norm=2))\n",
    "num_frames = X_CQT.shape[1]\n",
    "X_wav = np.zeros((128, num_frames))\n",
    "X_wav[23:23+84, :] = X_CQT\n",
    "\n",
    "\n",
    "#X = libfmp.c3.normalize_feature_sequence(X, norm='2')\n",
    "Fs_frame = Fs / H\n",
    "\n",
    "title='Log-frequency spectrogram (Fs_frame = %.3f)' % Fs_frame\n",
    "\n",
    "libfmp.b.plot_matrix(X_wav, Fs=Fs_frame, ylabel='MIDI pitch number', \n",
    "                     title=title, figsize=(8, 4))\n",
    "plt.ylim([36, 84])\n",
    "plt.show()\n",
    "\n",
    "freqs = 440 * 2 ** ((np.arange(0,128)-69) / 12)\n",
    "\n",
    "times = np.arange(start=0, stop=num_frames*H, step = H)/Fs\n",
    "\n",
    "Y_soni = sonify_spectrum(X_wav, freqs, times)\n",
    "\n",
    "print('Sonification of log-frequency spectrogram with libsoni:')\n",
    "ipd.display(ipd.Audio(Y_soni, rate=Fs))\n",
    "\n",
    "# Sonification\n",
    "harmonics = [1]\n",
    "fading_msec = 0.5\n",
    "x_pitch_wav, x_pitch_wav_stereo = \\\n",
    "    libfmp.b.sonify_pitch_activations_with_signal(X_wav, schubert_audio, Fs_frame, Fs, \n",
    "                                                  fading_msec=fading_msec, \n",
    "                                                  harmonics_weights=harmonics)\n",
    "print('Sonification of log-frequency spectrogram (mono):')\n",
    "ipd.display(ipd.Audio(x_pitch_wav, rate=Fs) )\n",
    "print('Sonification of log-frequency spectrogram and original audio (stereo):')\n",
    "ipd.display(ipd.Audio(x_pitch_wav_stereo, rate=Fs))"
   ]
  },
  {
   "cell_type": "code",
   "execution_count": null,
   "id": "85be8938",
   "metadata": {},
   "outputs": [],
   "source": []
  }
 ],
 "metadata": {
  "kernelspec": {
   "display_name": "Python 3 (ipykernel)",
   "language": "python",
   "name": "python3"
  },
  "language_info": {
   "codemirror_mode": {
    "name": "ipython",
    "version": 3
   },
   "file_extension": ".py",
   "mimetype": "text/x-python",
   "name": "python",
   "nbconvert_exporter": "python",
   "pygments_lexer": "ipython3",
   "version": "3.8.17"
  }
 },
 "nbformat": 4,
 "nbformat_minor": 5
}
