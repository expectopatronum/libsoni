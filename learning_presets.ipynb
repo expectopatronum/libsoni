{
 "cells": [
  {
   "cell_type": "markdown",
   "id": "fcc7cd60",
   "metadata": {},
   "source": [
    "# Computing Partials and Amplitudes "
   ]
  },
  {
   "cell_type": "code",
   "execution_count": null,
   "id": "3ef24d19",
   "metadata": {},
   "outputs": [],
   "source": [
    "import librosa\n",
    "import librosa.display\n",
    "import numpy as np\n",
    "import os\n",
    "from IPython import display as ipd\n",
    "import matplotlib.pyplot as plt\n",
    "import scipy\n",
    "os.path.join('..')\n",
    "from libsoni.core.methods import generate_tone_additive_synthesis\n",
    "from libsoni.util.utils import normalize_signal\n",
    "\n",
    "from scipy.io import wavfile\n",
    "\n",
    "%matplotlib inline"
   ]
  },
  {
   "cell_type": "code",
   "execution_count": null,
   "id": "5caa1169",
   "metadata": {},
   "outputs": [],
   "source": [
    "def pitch_to_frequency(pitch):\n",
    "    return  440.0  * 2 ** ((pitch - 69) / 12)\n",
    "def get_pitch_from_samplename(sample):\n",
    "    return int(sample[7:10])\n",
    "def get_folder_from_samplename(sample):\n",
    "    return sample[:2]"
   ]
  },
  {
   "cell_type": "markdown",
   "id": "fe5874d5",
   "metadata": {},
   "source": [
    "## Computing Partials"
   ]
  },
  {
   "cell_type": "code",
   "execution_count": null,
   "id": "d52f87ee",
   "metadata": {},
   "outputs": [],
   "source": [
    "# loading the audio sample\n",
    "Sample = '11Flu1F080m_np___0.wav'\n",
    "SAMPLE_DIR = os.path.join('..','SNDB',get_folder_from_samplename(Sample), Sample)\n",
    "\n",
    "\n",
    "pitch_sample = get_pitch_from_samplename(Sample)\n",
    "f_sample = pitch_to_frequency(pitch_sample)\n",
    "\n",
    "x, Fs = librosa.load(SAMPLE_DIR)\n",
    "print('loaded sample:')\n",
    "ipd.display(ipd.Audio(x, rate=Fs))"
   ]
  },
  {
   "cell_type": "markdown",
   "id": "df151765",
   "metadata": {},
   "source": [
    "## Performing FFT"
   ]
  },
  {
   "cell_type": "code",
   "execution_count": null,
   "id": "f8df298b",
   "metadata": {},
   "outputs": [],
   "source": [
    "# Define Length of FFT\n",
    "N_fft = 16834\n",
    "\n",
    "# Perform FFT to obtain the frequency domain representation\n",
    "X = np.fft.fft(x, n = N_fft)\n",
    "\n",
    "# Calculate the magnitudes of the FFT coefficients\n",
    "magnitude = np.abs(X)\n",
    "\n",
    "# Find the frequencies corresponding to each FFT coefficient\n",
    "frequencies = np.fft.fftfreq(len(magnitude), 1 / Fs)\n",
    "\n",
    "# Keep only the positive frequencies\n",
    "frequencies = frequencies[:len(frequencies) // 2]\n",
    "magnitude = magnitude[:len(magnitude) // 2]\n",
    "\n",
    "plt.figure(figsize=(8, 4))\n",
    "plt.plot(frequencies,magnitude)\n",
    "plt.xlabel('Frequency (Hz)')\n",
    "plt.ylabel('Magnitude')\n",
    "plt.title('FFT for %s' %Sample )\n",
    "#plt.legend()\n",
    "plt.grid(True)\n",
    "plt.show()\n",
    "plt.show()"
   ]
  },
  {
   "cell_type": "code",
   "execution_count": null,
   "id": "9fabf268",
   "metadata": {},
   "outputs": [],
   "source": [
    "# Define number of peaks to encounter for partials\n",
    "N = 100\n",
    "\n",
    "# Find N peaks in FFT\n",
    "ind = np.argpartition(magnitude, -N)[-N:]\n",
    "\n",
    "# Get parameters for synthesis\n",
    "frequencies_synthesis = frequencies[ind]\n",
    "magnitudes_synthesis = magnitude[ind]\n",
    "\n",
    "partials = frequencies_synthesis / f_sample\n",
    "partials_amplitude = magnitudes_synthesis\n",
    "\n",
    "# perform synthesis\n",
    "resyn_1 = generate_tone_additive_synthesis(pitch=pitch_sample,\n",
    "                                       partials=partials,\n",
    "                                       partials_amplitudes=partials_amplitude,\n",
    "                                       duration_sec = 3.0)\n",
    "\n",
    "resyn_1 = normalize_signal(resyn_1)\n",
    "\n",
    "print('Re-synthesized sample using %s peaks of fft:' %N)\n",
    "ipd.display(ipd.Audio(resyn_1, rate=Fs))"
   ]
  },
  {
   "cell_type": "code",
   "execution_count": null,
   "id": "9645fea1",
   "metadata": {},
   "outputs": [],
   "source": [
    "for N in [1,5,10,50,100,200,500]:\n",
    "    # Find N peaks in FFT\n",
    "    ind = np.argpartition(magnitude, -N)[-N:]\n",
    "    \n",
    "    # Get parameters for synthesis\n",
    "    frequencies_synthesis = frequencies[ind]\n",
    "    magnitudes_synthesis = magnitude[ind]\n",
    "    \n",
    "    partials = frequencies_synthesis / f_sample\n",
    "    partials_amplitude = magnitudes_synthesis\n",
    "    \n",
    "    # perform synthesis\n",
    "    resyn_N = generate_tone_additive_synthesis(pitch=pitch_sample,\n",
    "                                           partials=partials,\n",
    "                                           partials_amplitudes=partials_amplitude,\n",
    "                                           duration_sec = 3.0)\n",
    "    \n",
    "    resyn_N = normalize_signal(resyn_N)\n",
    "    \n",
    "    print('Re-synthesized Sample using %s peaks of fft:' %N)\n",
    "    ipd.display(ipd.Audio(resyn_N, rate=Fs))"
   ]
  },
  {
   "cell_type": "markdown",
   "id": "154e2d17",
   "metadata": {},
   "source": [
    "## Different Approach: Search Peaks in Octave-Subbands"
   ]
  },
  {
   "cell_type": "code",
   "execution_count": null,
   "id": "077495fc",
   "metadata": {},
   "outputs": [],
   "source": [
    "# Define the number of octave bands\n",
    "num_octave_bands = 8\n",
    "num_peaks_per_octave_band = 1\n",
    "\n",
    "# Calculate the center frequencies of the octave bands\n",
    "center_frequencies = [f_sample * i for i in range(1, num_octave_bands)]\n",
    "\n",
    "\n",
    "plt.figure(figsize=(8, 4))\n",
    "\n",
    "partials = []\n",
    "partials_amplitude = []\n",
    "\n",
    "for center_freq in center_frequencies:\n",
    "\n",
    "    lower_freq = center_freq - f_sample / 2\n",
    "    upper_freq = center_freq + f_sample / 2\n",
    "        \n",
    "    band_indices = np.where((frequencies >= lower_freq) & (frequencies < upper_freq))\n",
    "    \n",
    "    frequencies_band = frequencies[band_indices]\n",
    "    magnitude_band = magnitude[band_indices]\n",
    "    \n",
    "    \n",
    "    plt.axvline(lower_freq, color='r', linestyle='--', alpha=0.5)\n",
    "    plt.axvline(upper_freq, color='r', linestyle='--', alpha=0.5)\n",
    "    plt.plot(frequencies[band_indices],magnitude[band_indices])\n",
    "\n",
    "\n",
    "    \n",
    "    partials.append(frequencies_band[np.argpartition(magnitude_band, -num_peaks_per_octave_band)[-num_peaks_per_octave_band:]][0]/f_sample)\n",
    "    partials_amplitude.append(magnitude_band[np.argpartition(magnitude_band, -num_peaks_per_octave_band)[-num_peaks_per_octave_band:]][0])\n",
    "\n",
    "    \n",
    "\n",
    "resyn_2 = generate_tone_additive_synthesis(pitch=pitch_sample,\n",
    "                                           partials=partials,\n",
    "                                           partials_amplitudes=partials_amplitude,\n",
    "                                           duration_sec = 3.0)\n",
    "\n",
    "resyn_2 = normalize_signal(resyn_2)\n",
    "\n",
    "ipd.display(ipd.Audio(resyn_2, rate=Fs))\n",
    "plt.plot()\n",
    "plt.xlabel('Frequency (Hz)')\n",
    "plt.ylabel('Magnitude')\n",
    "plt.title('Sub-Octave Bands')\n",
    "plt.grid(True)\n",
    "plt.show()"
   ]
  },
  {
   "cell_type": "code",
   "execution_count": null,
   "id": "37e01aff",
   "metadata": {},
   "outputs": [],
   "source": []
  },
  {
   "cell_type": "code",
   "execution_count": null,
   "id": "9936a76e",
   "metadata": {},
   "outputs": [],
   "source": []
  },
  {
   "cell_type": "code",
   "execution_count": null,
   "id": "cc286d22",
   "metadata": {},
   "outputs": [],
   "source": []
  },
  {
   "cell_type": "code",
   "execution_count": null,
   "id": "61763f81",
   "metadata": {},
   "outputs": [],
   "source": []
  },
  {
   "cell_type": "code",
   "execution_count": null,
   "id": "c9f5fe84",
   "metadata": {},
   "outputs": [],
   "source": []
  },
  {
   "cell_type": "code",
   "execution_count": null,
   "id": "817453ef",
   "metadata": {},
   "outputs": [],
   "source": []
  },
  {
   "cell_type": "code",
   "execution_count": null,
   "id": "b58f1b47",
   "metadata": {},
   "outputs": [],
   "source": []
  },
  {
   "cell_type": "code",
   "execution_count": null,
   "id": "6ba37f61",
   "metadata": {},
   "outputs": [],
   "source": []
  },
  {
   "cell_type": "code",
   "execution_count": null,
   "id": "75029f7a",
   "metadata": {},
   "outputs": [],
   "source": []
  },
  {
   "cell_type": "code",
   "execution_count": null,
   "id": "dff636be",
   "metadata": {},
   "outputs": [],
   "source": []
  },
  {
   "cell_type": "code",
   "execution_count": null,
   "id": "5b3add65",
   "metadata": {},
   "outputs": [],
   "source": []
  },
  {
   "cell_type": "code",
   "execution_count": null,
   "id": "5c8bcf98",
   "metadata": {},
   "outputs": [],
   "source": []
  },
  {
   "cell_type": "code",
   "execution_count": null,
   "id": "3cad2dc4",
   "metadata": {},
   "outputs": [],
   "source": []
  },
  {
   "cell_type": "code",
   "execution_count": null,
   "id": "5125740e",
   "metadata": {},
   "outputs": [],
   "source": []
  },
  {
   "cell_type": "code",
   "execution_count": null,
   "id": "4cd84f0f",
   "metadata": {},
   "outputs": [],
   "source": [
    "stft = librosa.stft(x)\n",
    "\n"
   ]
  },
  {
   "cell_type": "code",
   "execution_count": null,
   "id": "5410d50c",
   "metadata": {},
   "outputs": [],
   "source": [
    "# Plot the original waveform, the STFT, and the envelope\n",
    "plt.figure(figsize=(12, 8))\n",
    "\n",
    "# Original waveform\n",
    "plt.subplot(3, 1, 1)\n",
    "librosa.display.waveshow(audio_data, sr=sample_rate)\n",
    "plt.title('Original Audio Waveform')\n",
    "\n",
    "# STFT\n",
    "plt.subplot(3, 1, 2)\n",
    "librosa.display.specshow(librosa.amplitude_to_db(np.abs(stft), ref=np.max), y_axis='log', x_axis='time', sr=sample_rate)\n",
    "plt.colorbar(format='%+2.0f dB')\n",
    "plt.title('STFT Magnitude Spectrogram')\n",
    "\n"
   ]
  },
  {
   "cell_type": "code",
   "execution_count": null,
   "id": "f3f4dc34",
   "metadata": {},
   "outputs": [],
   "source": [
    "print(np.abs(stft).shape)\n",
    "print(len(magnitude))"
   ]
  },
  {
   "cell_type": "code",
   "execution_count": null,
   "id": "dd574c41",
   "metadata": {},
   "outputs": [],
   "source": []
  },
  {
   "cell_type": "code",
   "execution_count": null,
   "id": "2a019b9b",
   "metadata": {},
   "outputs": [],
   "source": []
  }
 ],
 "metadata": {
  "kernelspec": {
   "display_name": "Python 3 (ipykernel)",
   "language": "python",
   "name": "python3"
  },
  "language_info": {
   "codemirror_mode": {
    "name": "ipython",
    "version": 3
   },
   "file_extension": ".py",
   "mimetype": "text/x-python",
   "name": "python",
   "nbconvert_exporter": "python",
   "pygments_lexer": "ipython3",
   "version": "3.8.17"
  }
 },
 "nbformat": 4,
 "nbformat_minor": 5
}
