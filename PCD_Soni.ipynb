{
 "cells": [
  {
   "cell_type": "code",
   "execution_count": null,
   "id": "434023bb",
   "metadata": {},
   "outputs": [],
   "source": [
    "import numpy as np\n",
    "import pandas as pd\n",
    "import os\n",
    "import librosa\n",
    "from IPython import display as ipd\n",
    "import soundfile as sf\n",
    "from tqdm import tqdm\n",
    "from libsoni.core.pianoroll import sonify_pianoroll_additive_synthesis, \\\n",
    "                                   sonify_pianoroll_fm_synthesis, \\\n",
    "                                   sonify_pianoroll_clicks, \\\n",
    "                                   sonify_pianoroll_sample, \\\n",
    "                                   visualize_pianoroll\n",
    "\n",
    "from libsoni.core.tse import sonify_tse_clicks\n",
    "from libsoni.util.utils import mix_sonification_and_original, get_preset\n",
    "\n",
    "ANNOTATION_DIR = '/home/yiitozer/workspace/python/synctoolbox/PCD_MuseScore/PCD_sync/'\n",
    "PCD_DIR = '/run/user/1001/gvfs/smb-share:server=lin2.audiolabs.uni-erlangen.de,share=groupmm/AL_Projects/PianoConcerto_MMO/MMO_rendered/PCD/excerpts'\n",
    "\n",
    "Fs = 22050\n",
    "PC_IDS = sorted(os.listdir(ANNOTATION_DIR))"
   ]
  },
  {
   "cell_type": "code",
   "execution_count": null,
   "id": "19b0a52f",
   "metadata": {},
   "outputs": [],
   "source": [
    "instruments = 'O'\n",
    "for pc_id in tqdm(PC_IDS):\n",
    "    try:\n",
    "        pc_df = pd.read_csv(os.path.join(ANNOTATION_DIR, pc_id, pc_id + f'_{instruments}_sync.csv'), sep=';')\n",
    "    except:\n",
    "        continue\n",
    "    if os.path.isfile(os.path.join(ANNOTATION_DIR, pc_id, pc_id + f'_{instruments}_soni.wav')):\n",
    "        continue\n",
    "    \n",
    "    else:\n",
    "        print(pc_id)\n",
    "    \n",
    "    pc_audio, _ = librosa.load(os.path.join(PCD_DIR, pc_id, pc_id + f'_{instruments}.wav'), sr=Fs)\n",
    "    fm = sonify_pianoroll_additive_synthesis(pianoroll_df=pc_df,\n",
    "                                             partials=[1, 2, 3],\n",
    "                                             partials_amplitudes=[0.5, 0.25, 0.25])\n",
    "    clicks = sonify_pianoroll_clicks(pianoroll_df=pc_df)\n",
    "    \n",
    "    soni = fm + clicks * 10\n",
    "\n",
    "    sonification_stereo = mix_sonification_and_original(soni,pc_audio, gain_lin_sonification=10)\n",
    "    sonification_stereo /= sonification_stereo.max()\n",
    "    \n",
    "    #son = np.zeros(sonification_stereo.shape)\n",
    "    #son[0, :] = sonification_stereo[1, :]\n",
    "    #son[1, :] = sonification_stereo[0, :]\n",
    "\n",
    "    sf.write(os.path.join(ANNOTATION_DIR, pc_id, pc_id + f'_{instruments}_soni.wav'), sonification_stereo.T, Fs)"
   ]
  }
 ],
 "metadata": {
  "kernelspec": {
   "display_name": "Python 3 (ipykernel)",
   "language": "python",
   "name": "python3"
  },
  "language_info": {
   "codemirror_mode": {
    "name": "ipython",
    "version": 3
   },
   "file_extension": ".py",
   "mimetype": "text/x-python",
   "name": "python",
   "nbconvert_exporter": "python",
   "pygments_lexer": "ipython3",
   "version": "3.8.17"
  }
 },
 "nbformat": 4,
 "nbformat_minor": 5
}
