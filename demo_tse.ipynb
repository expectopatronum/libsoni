{
 "cells": [
  {
   "cell_type": "markdown",
   "id": "8d0924f3",
   "metadata": {},
   "source": [
    "# Sonification of temporally triggered sound events\n",
    "In numerous MIR applications one encounters cases where - for the time being not further specified - events occur at certain temporal positions. \n",
    "In this notebook, we illustrate how the **libsoni.tse** module can be used to sonify these events with different methods."
   ]
  },
  {
   "cell_type": "code",
   "execution_count": null,
   "id": "9c0f6859",
   "metadata": {},
   "outputs": [],
   "source": [
    "from matplotlib import pyplot as plt\n",
    "import numpy as np\n",
    "import pandas as pd\n",
    "import os\n",
    "import libfmp.b\n",
    "import libfmp.c4\n",
    "import librosa\n",
    "from IPython import display as ipd\n",
    "\n",
    "from libsoni.core import tse\n",
    "from libsoni.util.utils import mix_sonification_and_original, plot_sonify_novelty_beats\n",
    "\n",
    "Fs= 22050"
   ]
  },
  {
   "cell_type": "markdown",
   "id": "e3f18468",
   "metadata": {},
   "source": [
    "## Simple scenario: time positions\n",
    "To start with a simple example, let's create a list of arbitrarily chosen time positions, given in seconds:"
   ]
  },
  {
   "cell_type": "code",
   "execution_count": null,
   "id": "865bf67c",
   "metadata": {},
   "outputs": [],
   "source": [
    "# Define some time positions\n",
    "time_positions = [0.5, 1.25, 2.5, 2.75]"
   ]
  },
  {
   "cell_type": "markdown",
   "id": "ede4b419",
   "metadata": {},
   "source": [
    "### Sonification of time positions with clicks\n",
    "Assuming we want to sonify this list, we can use the function **sonify_tse_click** to generate an audio signal comprising clicks at the corresponding time positions."
   ]
  },
  {
   "cell_type": "code",
   "execution_count": null,
   "id": "c86e5255",
   "metadata": {},
   "outputs": [],
   "source": [
    "# Sonification using libsoni\n",
    "sonified_time_positions = tse.sonify_tse_click(time_positions=time_positions)\n",
    "\n",
    "print('Sonified time positions:')\n",
    "ipd.display(ipd.Audio(sonified_time_positions, rate=Fs))"
   ]
  },
  {
   "cell_type": "markdown",
   "id": "53873b52",
   "metadata": {},
   "source": [
    "The clicks generated within **sonify_tse_click** can be adjusted in order to match the respective use case with the following parameters:\n",
    " - **click_pitch**: pitch of the click\n",
    " - **click_duration**: duration of the click\n",
    " - **click_amplitude**: amplitude of the click\n",
    " \n",
    "Let's say we'd rather have deeper sounding, longer clicks, the above sonification changes as follows:"
   ]
  },
  {
   "cell_type": "code",
   "execution_count": null,
   "id": "14627d9b",
   "metadata": {},
   "outputs": [],
   "source": [
    "# Sonification using libsoni\n",
    "sample_sonified_time_positions = tse.sonify_tse_click(time_positions=time_positions,\n",
    "                                                      click_pitch=43,\n",
    "                                                      click_duration=0.5)\n",
    "\n",
    "print('Sonified time positions with deeper, longer clicks:')\n",
    "ipd.display(ipd.Audio(sample_sonified_time_positions, rate=Fs))"
   ]
  },
  {
   "cell_type": "markdown",
   "id": "bedb6a98",
   "metadata": {},
   "source": [
    "### Sonification of time positions with samples (TODO: Snap-Sample noch einchecken!)\n",
    "Before we get to a real-world audio example, let's stay with the arbitrarily chosen time positions and explain how samples can be used for sonification.\n",
    "The first thing we need for this is - guess three times - a sample. Why don't we use a finger snap sound?"
   ]
  },
  {
   "cell_type": "code",
   "execution_count": null,
   "id": "ca0ebd0d",
   "metadata": {},
   "outputs": [],
   "source": [
    "# Load sample\n",
    "#snap_sample, _ = librosa.load(os.path.join('data_audio','samples', 'snap.wav'), sr=Fs)\n",
    "snap_sample, _ = librosa.load(os.path.join('data_audio','samples', 'snare.wav'), sr=Fs)\n",
    "\n",
    "print('Snap sample:')\n",
    "ipd.display(ipd.Audio(snap_sample, rate=Fs))"
   ]
  },
  {
   "cell_type": "markdown",
   "id": "95d813c3",
   "metadata": {},
   "source": [
    "Now, using the function **sonify_tse_sample**, we can sonify our list of time positions with our sample:"
   ]
  },
  {
   "cell_type": "code",
   "execution_count": null,
   "id": "f12703a2",
   "metadata": {},
   "outputs": [],
   "source": [
    "# Sonification using libsoni\n",
    "sample_sonified_arbitrarily_chosen_time_positions = tse.sonify_tse_sample(time_positions=time_positions,\n",
    "                                                                          sample=snap_sample)\n",
    "                                                 \n",
    "print('Sonified time positions with snap sample:')\n",
    "ipd.display(ipd.Audio(sample_sonified_arbitrarily_chosen_time_positions, rate=Fs))"
   ]
  },
  {
   "cell_type": "markdown",
   "id": "7b6ca0bc",
   "metadata": {},
   "source": [
    "## Scenario 1: Sonifying beat annotations"
   ]
  },
  {
   "cell_type": "code",
   "execution_count": null,
   "id": "b8f58f3d",
   "metadata": {},
   "outputs": [],
   "source": [
    "# Borodin\n",
    "title = 'Borodin: String Quartet No. 2, 3rd movement' \n",
    "fn_ann = os.path.join('data_csv', 'demo_tse', 'FMP_C6_Audio_Borodin-sec39_RWC_quarter.csv')\n",
    "fn_wav = os.path.join('data_audio', 'demo_tse', 'FMP_C6_Audio_Borodin-sec39_RWC.wav')\n",
    "\n",
    "plot_sonify_novelty_beats(fn_wav, fn_ann, title);\n",
    "\n",
    "borodin_audio, _ = librosa.load(fn_wav, sr=Fs)\n",
    "borodin_df = pd.read_csv(fn_ann)\n",
    "\n",
    "# Sonification using libsoni\n",
    "sonified_borodin = tse.sonify_tse_click(time_positions=borodin_df.to_numpy())\n",
    "\n",
    "print('Original audio and sonification of beat positions with clicks:')\n",
    "ipd.display(ipd.Audio(mix_sonification_and_original(sonified_borodin, borodin_audio, panning = 0.5), rate=Fs))\n",
    "\n",
    "# Chopin\n",
    "title = 'Chopin: Op.68, No. 3' \n",
    "fn_ann = os.path.join('data_csv', 'demo_tse', 'FMP_C6_Audio_Chopin.csv')\n",
    "fn_wav = os.path.join('data_audio', 'demo_tse', 'FMP_C6_Audio_Chopin.wav')\n",
    "\n",
    "plot_sonify_novelty_beats(fn_wav, fn_ann, title);\n",
    "\n",
    "chopin_audio, _ = librosa.load(fn_wav, sr=Fs)\n",
    "chopin_df = pd.read_csv(fn_ann)\n",
    "\n",
    "# Sonification using libsoni\n",
    "castanets_sample, _ = librosa.load(os.path.join('data_audio','samples', 'castanets.wav'), sr=Fs)\n",
    "sonified_chopin = tse.sonify_tse_sample(time_positions=chopin_df.to_numpy(),\n",
    "                                        sample=castanets_sample)\n",
    "\n",
    "print('Original audio and sonification of beat positions with castanet sample:')\n",
    "ipd.display(ipd.Audio(mix_sonification_and_original(sonified_chopin, chopin_audio, panning = 0.5), rate=Fs))\n",
    "\n",
    "\n",
    "# Faure\n",
    "title = 'Fauré: Op.15' \n",
    "fn_ann = os.path.join('data_csv', 'demo_tse', 'FMP_C6_Audio_Faure_Op015-01-sec0-12_SMD126.csv')\n",
    "fn_wav = os.path.join('data_audio', 'demo_tse', 'FMP_C6_Audio_Faure_Op015-01-sec0-12_SMD126.wav')\n",
    "plot_sonify_novelty_beats(fn_wav, fn_ann, title);\n",
    "\n",
    "faure_audio, _ = librosa.load(fn_wav, sr=Fs)\n",
    "metronome_sample, _ = librosa.load(os.path.join('data_audio','samples', 'metronome.wav'), sr=Fs)\n",
    "faure_df = pd.read_csv(fn_ann)\n",
    "sonified_faure = tse.sonify_tse_sample(time_positions=faure_df.to_numpy(),sample=metronome_sample)\n",
    "ipd.display(ipd.Audio(mix_sonification_and_original(sonified_faure, faure_audio, panning = 0.5), rate=Fs))"
   ]
  },
  {
   "cell_type": "markdown",
   "id": "8a4fbeef",
   "metadata": {},
   "source": [
    "## Scenario 2: Drumset"
   ]
  },
  {
   "cell_type": "code",
   "execution_count": null,
   "id": "2a7e5f53",
   "metadata": {},
   "outputs": [],
   "source": [
    "fn_wav = os.path.join('data_audio','demo_tse','FMP_C6_Audio_Queen_AnotherOneBitesTheDust-Beginning.wav')\n",
    "\n",
    "fn_ann = os.path.join('data_csv','demo_tse','FMP_C6_F01_Queen_drums.csv')\n",
    "queen_drums_df = pd.read_csv(fn_ann, delimiter =';')\n",
    "ipd.display(queen_drums_df)\n",
    "\n",
    "\n",
    "queen_audio, _ = librosa.load(fn_wav, sr=Fs)\n",
    "\n",
    "kick_times = queen_drums_df[queen_drums_df['label']=='kick']['position'].to_numpy()\n",
    "hihat_times = queen_drums_df[queen_drums_df['label']=='hihat']['position'].to_numpy()\n",
    "snare_times = queen_drums_df[queen_drums_df['label']=='snare']['position'].to_numpy()\n",
    "\n",
    "hihat_sample, _ = librosa.load(os.path.join('data_audio','samples','hi-hat.wav'),sr=Fs)\n",
    "snare_sample, _ = librosa.load(os.path.join('data_audio','samples','snare.wav'),sr=Fs)\n",
    "kick_sample, _ = librosa.load(os.path.join('data_audio','samples','bass-drum.wav'),sr=Fs)\n",
    "    \n",
    "    \n",
    "    \n",
    "queen_drums = [(hihat_times, hihat_sample),\n",
    "               (snare_times, snare_sample),\n",
    "               (kick_times, kick_sample)]\n",
    "\n",
    "\n",
    "sonified = tse.sonify_tse_multiple_samples(queen_drums)\n",
    "\n",
    "\n",
    "ipd.display(ipd.Audio(sonified,rate=Fs))\n",
    "\n",
    "ipd.display(ipd.Audio(mix_sonification_and_original(queen_audio, sonified),rate=Fs))"
   ]
  },
  {
   "attachments": {},
   "cell_type": "markdown",
   "id": "2aa38c8e",
   "metadata": {},
   "source": [
    "## Scenario 3: Structure Annotations aux *Town Musicians of Bremen*\n",
    "\n",
    "https://www.audiolabs-erlangen.de/resources/MIR/FMP/C4/C4S1_MusicStructureGeneral.html\n",
    "\n",
    "Links Text, Erklärung , Rechts Bild\n",
    "<img src=\"data/demo_tse/town_musicians_of_bremen.png\" alt=\"town musicians of bremen\" width=\"400\" height=\"400\">"
   ]
  },
  {
   "cell_type": "code",
   "execution_count": null,
   "id": "28f6dcbb",
   "metadata": {},
   "outputs": [],
   "source": [
    "fn_ann = os.path.join('data_csv', 'demo_tse', 'FMP_C4_Audio_Chopin_Op028-11_003_20100611-SMD.csv')\n",
    "chopin_df = pd.read_csv(fn_ann, delimiter=';')\n",
    "ann, color_ann = libfmp.c4.read_structure_annotation(fn_ann)\n",
    "ipd.display(chopin_df)\n",
    "\n",
    "\n",
    "\n",
    "fn_wav = os.path.join('data_audio', 'demo_tse', 'FMP_C4_Audio_Chopin_Op028-11_003_20100611-SMD.wav')\n",
    "chopin_audio, _ = librosa.load(fn_wav, sr=Fs)\n",
    "\n",
    "times_A = chopin_df[chopin_df['label'] == 'A']['start'].to_numpy()\n",
    "times_B = chopin_df[chopin_df['label'] == 'B']['start'].to_numpy()\n",
    "times_C = chopin_df[chopin_df['label'] == 'C']['start'].to_numpy()\n",
    "times_D = chopin_df[chopin_df['label'] == 'D']['start'].to_numpy()\n",
    "\n",
    "sample_A, _ = librosa.load(os.path.join('data_audio','samples', 'rooster.wav'), sr=Fs)\n",
    "sample_B, _ = librosa.load(os.path.join('data_audio','samples', 'cat.wav'), sr=Fs)\n",
    "sample_C, _ = librosa.load(os.path.join('data_audio','samples', 'dog.wav'), sr=Fs)\n",
    "sample_D, _ = librosa.load(os.path.join('data_audio','samples', 'donkey.wav'), sr=Fs)\n",
    "\n",
    "collection = [(times_A, sample_A),(times_B, sample_B),(times_C, sample_C),(times_D, sample_D)]\n",
    "\n",
    "sonification_bremen = tse.sonify_tse_multiple_samples(collection, offset_relative=0.5)\n",
    "\n",
    "color_ann = {'A': [1, 0, 0, 0.2],'B': [0, 1, 0, 0.2],  'C': [0, 0, 1, 0.2], 'D': [1, 1, 0, 0.2]}\n",
    "\n",
    "\n",
    "fig, ax = libfmp.b.plot_segments(ann, colors=color_ann, figsize=(6, 1))\n",
    "plt.xlabel('Time (frames)');\n",
    "plt.show()\n",
    "\n",
    "ipd.display(ipd.Audio(mix_sonification_and_original(sonification_bremen, chopin_audio), rate=Fs))"
   ]
  }
 ],
 "metadata": {
  "kernelspec": {
   "display_name": "Python 3 (ipykernel)",
   "language": "python",
   "name": "python3"
  },
  "language_info": {
   "codemirror_mode": {
    "name": "ipython",
    "version": 3
   },
   "file_extension": ".py",
   "mimetype": "text/x-python",
   "name": "python",
   "nbconvert_exporter": "python",
   "pygments_lexer": "ipython3",
   "version": "3.8.17"
  }
 },
 "nbformat": 4,
 "nbformat_minor": 5
}
