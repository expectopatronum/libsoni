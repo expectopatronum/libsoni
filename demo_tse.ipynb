{
 "cells": [
  {
   "cell_type": "markdown",
   "id": "8d0924f3",
   "metadata": {},
   "source": [
    "# Sonification of temporal triggered sound events\n",
    "In numerous MIR applications one encounters cases where - for the time being not further specified - events occur at certain temporal positions. \n",
    "In this notebook, we illustrate how the **libsoni.tse** module can be used to sonify these events with respect to their characteritics."
   ]
  },
  {
   "cell_type": "code",
   "execution_count": null,
   "id": "9c0f6859",
   "metadata": {},
   "outputs": [],
   "source": [
    "import numpy as np\n",
    "import pandas as pd\n",
    "import os\n",
    "import librosa\n",
    "from IPython import display as ipd\n",
    "\n",
    "from libsoni.core import tse\n",
    "from libsoni.util.utils import mix_sonification_and_original\n",
    "\n",
    "Fs= 22050"
   ]
  },
  {
   "cell_type": "markdown",
   "id": "e3f18468",
   "metadata": {},
   "source": [
    "## Simple scenario: time positions\n",
    "To start with a simple example, let's create a list of arbitrarily chosen time positions, given in seconds:"
   ]
  },
  {
   "cell_type": "code",
   "execution_count": null,
   "id": "865bf67c",
   "metadata": {},
   "outputs": [],
   "source": [
    "# Define arbitrarily chosen time positions\n",
    "arbitrarily_chosen_time_positions = [0.5, 1.25, 2.5, 2.75]"
   ]
  },
  {
   "cell_type": "markdown",
   "id": "c0041974",
   "metadata": {},
   "source": [
    "Assuming we want to sonify this list, we can use the **sonify_tse_click** function to generate an audio signal comprising clicks at the corresponding time positions."
   ]
  },
  {
   "cell_type": "markdown",
   "id": "ede4b419",
   "metadata": {},
   "source": [
    "### Sonification of time positions with clicks"
   ]
  },
  {
   "cell_type": "code",
   "execution_count": null,
   "id": "c86e5255",
   "metadata": {},
   "outputs": [],
   "source": [
    "# Sonification using libsoni\n",
    "sonified_arbitrarily_chosen_time_positions = tse.sonify_tse_click(\n",
    "                                             time_positions=arbitrarily_chosen_time_positions)\n",
    "\n",
    "print('Sonified time positions:')\n",
    "ipd.display(ipd.Audio(sonified_arbitrarily_chosen_time_positions, rate=Fs))"
   ]
  },
  {
   "cell_type": "markdown",
   "id": "53873b52",
   "metadata": {},
   "source": [
    "### Customizing the Sonification\n",
    "The clicks generated within **sonify_tse_click** can be adjusted in order to match the respective use case with the following parameters:\n",
    " - **click_pitch**: pitch of the click\n",
    " - **click_duration**: duration of the click\n",
    " - **click_amplitude**: amplitude of the click\n",
    " \n",
    "Let's say we'd rather have deeper sounding, longer clicks, the above sonification changes as follows:"
   ]
  },
  {
   "cell_type": "code",
   "execution_count": null,
   "id": "14627d9b",
   "metadata": {},
   "outputs": [],
   "source": [
    "# Sonification using libsoni\n",
    "new_sonified_arbitrarily_chosen_time_positions = tse.sonify_tse_click(\n",
    "                                                 time_positions=arbitrarily_chosen_time_positions,\n",
    "                                                 click_pitch=43,\n",
    "                                                 click_duration = 0.5)\n",
    "\n",
    "print('Sonified time positions with deeper, longer clicks:')\n",
    "ipd.display(ipd.Audio(new_sonified_arbitrarily_chosen_time_positions, rate=Fs))"
   ]
  },
  {
   "cell_type": "markdown",
   "id": "bedb6a98",
   "metadata": {},
   "source": [
    "### Sonification of time positions with samples\n",
    "Before we get to a real-world audio example, let's stay with the arbitrary time positions and explain the way in which samples can be used instead of clicks.\n",
    "The first thing we need for this is - guess three times - a sample. Why don't we use a finger snap sound?"
   ]
  },
  {
   "cell_type": "code",
   "execution_count": null,
   "id": "ca0ebd0d",
   "metadata": {},
   "outputs": [],
   "source": [
    "# Load sample\n",
    "snap_sample, _ = librosa.load(os.path.join('data_audio','samples', 'snap.wav'), sr=Fs)\n",
    "\n",
    "print('Snap sample:')\n",
    "ipd.display(ipd.Audio(snap_sample, rate=Fs))"
   ]
  },
  {
   "cell_type": "markdown",
   "id": "95d813c3",
   "metadata": {},
   "source": [
    "Now, using the function **sonify_tse_sample**, we can sonify our list of time positions with our sample:"
   ]
  },
  {
   "cell_type": "code",
   "execution_count": null,
   "id": "f12703a2",
   "metadata": {},
   "outputs": [],
   "source": [
    "# Sonification using libsoni\n",
    "sample_sonified_arbitrarily_chosen_time_positions = tse.sonify_tse_sample(\n",
    "                                                 time_positions=arbitrarily_chosen_time_positions,\n",
    "                                                 sample=snap_sample)\n",
    "                                                 \n",
    "print('Sonified time positions with snap sample:')\n",
    "ipd.display(ipd.Audio(sample_sonified_arbitrarily_chosen_time_positions, rate=Fs))"
   ]
  },
  {
   "cell_type": "markdown",
   "id": "c01e983e",
   "metadata": {},
   "source": [
    "## Scenario 1: Measure Annotations"
   ]
  },
  {
   "cell_type": "markdown",
   "id": "2aa38c8e",
   "metadata": {},
   "source": [
    "## Scenario 2: Beat Annotations"
   ]
  },
  {
   "cell_type": "markdown",
   "id": "8a4fbeef",
   "metadata": {},
   "source": [
    "## Scenario 3: Drumset"
   ]
  },
  {
   "cell_type": "code",
   "execution_count": null,
   "id": "dfee836a",
   "metadata": {},
   "outputs": [],
   "source": []
  },
  {
   "cell_type": "code",
   "execution_count": null,
   "id": "b12b3899",
   "metadata": {},
   "outputs": [],
   "source": []
  }
 ],
 "metadata": {
  "kernelspec": {
   "display_name": "Python 3 (ipykernel)",
   "language": "python",
   "name": "python3"
  },
  "language_info": {
   "codemirror_mode": {
    "name": "ipython",
    "version": 3
   },
   "file_extension": ".py",
   "mimetype": "text/x-python",
   "name": "python",
   "nbconvert_exporter": "python",
   "pygments_lexer": "ipython3",
   "version": "3.8.17"
  }
 },
 "nbformat": 4,
 "nbformat_minor": 5
}
