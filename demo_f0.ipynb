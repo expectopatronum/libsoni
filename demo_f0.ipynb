{
 "cells": [
  {
   "cell_type": "markdown",
   "id": "30f39d69",
   "metadata": {},
   "source": [
    "# Demo_f0\n",
    "This notebook illustrates the functionallity..."
   ]
  },
  {
   "cell_type": "code",
   "execution_count": null,
   "id": "454af7e4",
   "metadata": {},
   "outputs": [],
   "source": [
    "import numpy as np\n",
    "import pandas as pd\n",
    "import os\n",
    "import librosa\n",
    "from IPython import display as ipd\n",
    "\n",
    "from libsoni.core import f0\n",
    "from libsoni.util.utils import mix_sonification_and_original\n",
    "\n",
    "\n",
    "Fs= 22050"
   ]
  },
  {
   "cell_type": "markdown",
   "id": "cdfbf23e",
   "metadata": {},
   "source": [
    "## Simple Use Case: C Major Triad"
   ]
  },
  {
   "cell_type": "code",
   "execution_count": null,
   "id": "d00d9f38",
   "metadata": {},
   "outputs": [],
   "source": [
    "C_Major_Triad_f0 = [261.63, 329.63, 392.00, 523.25, 0.0]\n",
    "\n",
    "# Starting time position of the first annotation (f0=261.63)\n",
    "start_sec = 0.2\n",
    "\n",
    "# Duration of each f0 value in seconds\n",
    "step_sec = 0.5\n",
    "\n",
    "time_positions = np.arange(start_sec, len(C_Major_Triad_f0) * step_sec, step_sec)\n",
    "time_f0 = np.column_stack((time_positions, C_Major_Triad_f0))\n",
    "print('The sonification function takes a 2-D numpy array comprising time positions and f0 values:')\n",
    "print('-------------------------')\n",
    "print('  Time Pos. |     f0     ')\n",
    "print('-------------------------')\n",
    "for row in time_f0:\n",
    "    print('    %.2f    |   %.2f   ' % (row[0], row[1]))\n"
   ]
  },
  {
   "cell_type": "code",
   "execution_count": null,
   "id": "e20974e5",
   "metadata": {},
   "outputs": [],
   "source": [
    "sonified_C_Major_Triad_f0 = f0.sonify_f0(time_f0=time_f0,\n",
    "                                         fs=Fs)\n",
    "ipd.display(ipd.Audio(sonified_C_Major_Triad_f0, rate=Fs))"
   ]
  },
  {
   "cell_type": "markdown",
   "id": "e844bf3b",
   "metadata": {},
   "source": [
    "### We can set the partials...\n"
   ]
  },
  {
   "cell_type": "code",
   "execution_count": null,
   "id": "ad8f511c",
   "metadata": {},
   "outputs": [],
   "source": [
    "custom_partials = np.array([1,2,3,4,5])\n",
    "custom_partials_amplitudes = np.array([1/1,1/2,1/3,1/4,1/5])\n",
    "\n",
    "sonified_C_Major_Triad_f0 = f0.sonify_f0(time_f0=time_f0,\n",
    "                                         partials=custom_partials,\n",
    "                                         partials_amplitudes=custom_partials_amplitudes,\n",
    "                                         fs=Fs)\n",
    "\n",
    "ipd.display(ipd.Audio(sonified_C_Major_Triad_f0, rate=Fs))"
   ]
  },
  {
   "cell_type": "markdown",
   "id": "ce4eddfe",
   "metadata": {},
   "source": [
    "Libsoni also offers the possibility to work with presets... "
   ]
  },
  {
   "cell_type": "markdown",
   "id": "8ea5b19e",
   "metadata": {},
   "source": [
    "## F0 Trajectory for AchGottundHerr from Bach10 Dataset [1]"
   ]
  },
  {
   "cell_type": "code",
   "execution_count": null,
   "id": "0717e9ed",
   "metadata": {},
   "outputs": [],
   "source": [
    "bach_audio, _ = librosa.load(os.path.join('data_audio','demo_f0','01-AchGottundHerr.wav'), duration=10)\n",
    "ipd.display(ipd.Audio(bach_audio, rate=Fs))"
   ]
  },
  {
   "cell_type": "code",
   "execution_count": null,
   "id": "b1173cfa",
   "metadata": {},
   "outputs": [],
   "source": [
    "bassoon_df = pd.read_csv(os.path.join('data_csv','demo_f0','01-AchGottundHerr_bassoon.csv'), sep=';')\n",
    "clarinet_df = pd.read_csv(os.path.join('data_csv','demo_f0','01-AchGottundHerr_clarinet.csv'), sep=';')\n",
    "saxophone_df = pd.read_csv(os.path.join('data_csv','demo_f0','01-AchGottundHerr_saxophone.csv'), sep=';')\n",
    "violin_df = pd.read_csv(os.path.join('data_csv','demo_f0','01-AchGottundHerr_violin.csv'), sep=';')\n",
    "violin_df.head()"
   ]
  },
  {
   "cell_type": "code",
   "execution_count": null,
   "id": "76bd6b05",
   "metadata": {},
   "outputs": [],
   "source": [
    "bach_dict = {'violin':violin_df.to_numpy(),\n",
    "             'clarinet':clarinet_df.to_numpy(),\n",
    "             'saxophone':saxophone_df.to_numpy(),\n",
    "             'bassoon':bassoon_df.to_numpy()}"
   ]
  },
  {
   "cell_type": "code",
   "execution_count": null,
   "id": "d6edd2ba",
   "metadata": {},
   "outputs": [],
   "source": [
    "bach_sonified = f0.sonify_f0_with_presets(bach_dict,\n",
    "                                          duration = 10 * Fs)\n",
    "ipd.display(ipd.Audio(bach_sonified, rate=Fs))\n",
    "\n",
    "\n",
    "\n"
   ]
  },
  {
   "cell_type": "code",
   "execution_count": null,
   "id": "fd27c004",
   "metadata": {},
   "outputs": [],
   "source": [
    "bach_sonified_w_original = mix_sonification_and_original(sonification=bach_sonified,\n",
    "                                                         original_audio=bach_audio,\n",
    "                                                         gain_lin_sonification=1.0,\n",
    "                                                         gain_lin_original_audio=0.5)\n",
    "\n",
    "print('Original recording')\n",
    "ipd.display(ipd.Audio(bach_audio, rate=Fs))\n",
    "\n",
    "print('Sonified with libsoni')\n",
    "ipd.display(ipd.Audio(bach_sonified, rate=Fs))\n",
    "\n",
    "print('Original audio with sonification (stereo)')\n",
    "ipd.display(ipd.Audio(bach_sonified_w_original, rate=Fs))"
   ]
  },
  {
   "cell_type": "markdown",
   "id": "0c7e5d19",
   "metadata": {},
   "source": [
    "## SATB F0 Trajectory for Locus Iste from Dagstuhl Choirset [2]\n"
   ]
  },
  {
   "cell_type": "code",
   "execution_count": null,
   "id": "e8dfb285",
   "metadata": {},
   "outputs": [],
   "source": [
    "soprano_df = pd.read_csv(os.path.join('data_csv','demo_f0','DCS_LI_QuartetA_Take04_S2_LRX.csv'), sep=';')\n",
    "alto_df = pd.read_csv(os.path.join('data_csv','demo_f0','DCS_LI_QuartetA_Take04_A1_LRX.csv'), sep=';')\n",
    "tenor_df = pd.read_csv(os.path.join('data_csv','demo_f0','DCS_LI_QuartetA_Take04_T1_LRX.csv'), sep=';')\n",
    "bass_df = pd.read_csv(os.path.join('data_csv','demo_f0','DCS_LI_QuartetA_Take04_B1_LRX.csv'), sep=';')\n",
    "soprano_df.head()"
   ]
  },
  {
   "cell_type": "code",
   "execution_count": null,
   "id": "7835ebd0",
   "metadata": {},
   "outputs": [],
   "source": [
    "satb_dict = {'soprano':soprano_df.to_numpy(),\n",
    "             'alto':alto_df.to_numpy(),\n",
    "             'tenor':tenor_df.to_numpy(),\n",
    "             'bass':bass_df.to_numpy()}\n",
    "\n",
    "satb_audio, _ = librosa.load(os.path.join('data_audio','demo_f0','DCS_LI_QuartetA_Take04_StereoReverb_STM.wav'), sr=Fs, duration=10)\n",
    "\n",
    "satb_sonified = f0.sonify_f0_with_presets(satb_dict,\n",
    "                                          duration = 10 * Fs)\n",
    "\n",
    "satb_sonified_w_original = mix_sonification_and_original(sonification=satb_sonified,\n",
    "                                                         original_audio=satb_audio,\n",
    "                                                         gain_lin_original_audio=0.1)\n",
    "\n",
    "print('Original recording')\n",
    "ipd.display(ipd.Audio(satb_audio, rate=Fs))\n",
    "\n",
    "print('Sonified with libsoni')\n",
    "ipd.display(ipd.Audio(satb_sonified, rate=Fs))\n",
    "\n",
    "print('Original audio with sonification (stereo)')\n",
    "ipd.display(ipd.Audio(satb_sonified_w_original, rate=Fs))"
   ]
  },
  {
   "cell_type": "markdown",
   "id": "8c4e8969",
   "metadata": {},
   "source": [
    "## References\n",
    "\n",
    "[1] Z. Duan and B. Pardo, “Soundprism: An online system for score-informed source separation of music audio,” IEEE Journal of Selected Topics in Signal Processing, vol. 5, no. 6, pp. 1205–1215, 2011.\n",
    "\n",
    "[2] S. Rosenzweig, H. Cuesta, C. Weiß, F. Scherbaum, E. Gómez, and M. Müller, “Dagstuhl ChoirSet: A multitrack dataset for MIR research on choral singing,” Transactions of the International Society for Music Information Retrieval (TISMIR), vol. 3, no. 1, pp. 98–110, 2020."
   ]
  }
 ],
 "metadata": {
  "kernelspec": {
   "display_name": "Python 3 (ipykernel)",
   "language": "python",
   "name": "python3"
  },
  "language_info": {
   "codemirror_mode": {
    "name": "ipython",
    "version": 3
   },
   "file_extension": ".py",
   "mimetype": "text/x-python",
   "name": "python",
   "nbconvert_exporter": "python",
   "pygments_lexer": "ipython3",
   "version": "3.8.17"
  }
 },
 "nbformat": 4,
 "nbformat_minor": 5
}
