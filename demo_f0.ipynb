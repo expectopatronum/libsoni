{
 "cells": [
  {
   "cell_type": "markdown",
   "id": "dd6549a7",
   "metadata": {},
   "source": [
    "# Sonification of f0 annotations\n",
    "In this notebook, we illustrate the sonification of fundamental frequency annotations using the **libsoni.f0** module."
   ]
  },
  {
   "cell_type": "code",
   "execution_count": null,
   "id": "4a883d27",
   "metadata": {},
   "outputs": [],
   "source": [
    "import numpy as np\n",
    "import pandas as pd\n",
    "import os\n",
    "import librosa\n",
    "from IPython import display as ipd\n",
    "\n",
    "from libsoni.core import f0\n",
    "from libsoni.util.utils import mix_sonification_and_original, get_preset\n",
    "\n",
    "Fs= 22050"
   ]
  },
  {
   "cell_type": "markdown",
   "id": "601a1aca",
   "metadata": {},
   "source": [
    "## Simple scenario: C Major Triad\n",
    "To start with a simple example, let's look at the fundamental frequencies of a **C major triad**.\n",
    "<img src=\"data/demo_f0/C-Dur-DM.png\" alt=\"C-Major-Triad\" width=\"500\" height=\"600\">\n",
    "The frequencies corresponding to the notes are:\n",
    "\n",
    "| Note | Frequency (Hz) |\n",
    "|------|----------------|\n",
    "| C4   |     261.63     |\n",
    "| E4   |     329.63     |\n",
    "| G4   |     392.00     |\n",
    "| C5   |     523.25     |"
   ]
  },
  {
   "cell_type": "code",
   "execution_count": null,
   "id": "544df8ee",
   "metadata": {},
   "outputs": [],
   "source": [
    "# Define list of frequencies for C Major triad\n",
    "C_Major_Triad_f0s = [261.63, 329.63, 392.00, 523.25, 0.0]"
   ]
  },
  {
   "cell_type": "markdown",
   "id": "deaf1929",
   "metadata": {},
   "source": [
    "To sonify these notes, or more precisely their frequencies, we need an array of time positions at which the notes are to be played. Let's play the first note at 0.25 seconds for 0.5 seconds and all other notes consecutively for 0.5 seconds as well."
   ]
  },
  {
   "cell_type": "code",
   "execution_count": null,
   "id": "12c6931f",
   "metadata": {},
   "outputs": [],
   "source": [
    "# Define starting time position in seconds\n",
    "start_sec = 0.25\n",
    "\n",
    "# Define duration for each frequency\n",
    "duration_note_sec = 0.5\n",
    "\n",
    "# Create array from time information\n",
    "time_positions = np.arange(start_sec, len(C_Major_Triad_f0s) * duration_note_sec, duration_note_sec)"
   ]
  },
  {
   "cell_type": "markdown",
   "id": "c3169b94",
   "metadata": {},
   "source": [
    "The function **sonify_f0** from the module f0 takes a Nx2-dimensional numpy.ndarray containing the time positions in the first column and the f0s in the second column."
   ]
  },
  {
   "cell_type": "code",
   "execution_count": null,
   "id": "effd9c11",
   "metadata": {},
   "outputs": [],
   "source": [
    "# Create Nx2-dimensional ndarray time-f0\n",
    "time_f0 = np.column_stack((time_positions, C_Major_Triad_f0s))\n",
    "\n",
    "print('    Start   |     f0     ')\n",
    "print('-------------------------')\n",
    "for row in time_f0: print('    %.2f s  |   %.2f Hz ' % (row[0], row[1]))"
   ]
  },
  {
   "cell_type": "markdown",
   "id": "35f96303",
   "metadata": {},
   "source": [
    "### Sonified C Major Triad"
   ]
  },
  {
   "cell_type": "code",
   "execution_count": null,
   "id": "c3214ce9",
   "metadata": {},
   "outputs": [],
   "source": [
    "# Sonification using libsoni\n",
    "sonified_C_Major_Triad_f0 = f0.sonify_f0(time_f0=time_f0, fs=Fs)\n",
    "\n",
    "print('Sonified C Major triad:')\n",
    "ipd.display(ipd.Audio(sonified_C_Major_Triad_f0, rate=Fs))"
   ]
  },
  {
   "cell_type": "markdown",
   "id": "dbfde9ee",
   "metadata": {},
   "source": [
    "### Customizing the Sonification\n",
    "To adjust the sonification, the function **sonify_f0** offers the possibility to set the so-called partial frequencies as well as their amplitudes to create a certain timbre. Let's say we want to use the fundamental frequency f0 as well as two times, three times and four times the fundamental frequency for sonification. For the amplitudes we want to set 1, 1/2, 1/3, 1/4.\n",
    "| Custom frequencies | Custom amplitudes |\n",
    "|--------------------|------------------|\n",
    "| f0                 | 1                |\n",
    "| 2*f0               | 1/2              |\n",
    "| 3*f0               | 1/3              |\n",
    "| 4*f0               | 1/4              |"
   ]
  },
  {
   "cell_type": "code",
   "execution_count": null,
   "id": "d8ecd0a1",
   "metadata": {},
   "outputs": [],
   "source": [
    "# Set custom_partials\n",
    "custom_partials = np.array([1,2,3,4])\n",
    "\n",
    "# Set amplitudes for custom_partials\n",
    "custom_partials_amplitudes = np.array([1,1/2,1/3,1/4])\n",
    "\n",
    "# Sonification with custom parital settings using libsoni\n",
    "sonified_C_Major_Triad_f0 = f0.sonify_f0(time_f0=time_f0,\n",
    "                                         partials=custom_partials,\n",
    "                                         partials_amplitudes=custom_partials_amplitudes,\n",
    "                                         fs=Fs)\n",
    "\n",
    "\n",
    "print('Sonified C Major Triad with custom parials:')\n",
    "ipd.display(ipd.Audio(sonified_C_Major_Triad_f0, rate=Fs))"
   ]
  },
  {
   "cell_type": "markdown",
   "id": "821832e9",
   "metadata": {},
   "source": [
    "## Scenario 1: *Ach Gott und Herr* by *J.S. Bach* (Bach10 Dataset [1])\n",
    "\"Ach Gott und Herr\" is a sacred choral composition by the Baroque composer Johann Sebastian Bach. The piece typically features a four-part choir, supported by an instrumental ensemble. Bach often employed various instrumental combinations to enhance the choral texture and evoke different emotional layers. The following excerpt comprises a violin, a clarinet, a saxophone and a bassoon.\n",
    "\n",
    "<img src=\"data/demo_f0/01-AchGottUndHerr_score.png\" alt=\"Locus Iste\" width=\"800\" height=\"800\">"
   ]
  },
  {
   "cell_type": "code",
   "execution_count": null,
   "id": "7cc1c4ce",
   "metadata": {},
   "outputs": [],
   "source": [
    "bach_audio, _ = librosa.load(os.path.join('data_audio','demo_f0','01-AchGottundHerr.wav'), sr=Fs)\n",
    "\n",
    "print('\"Ach Gott und Herr\", by J. S. Bach:')\n",
    "ipd.display(ipd.Audio(bach_audio, rate=Fs))"
   ]
  },
  {
   "cell_type": "markdown",
   "id": "32fc4d0c",
   "metadata": {},
   "source": [
    "### Preparing the data\n",
    "For the excerpt above, we load the corresponding .csv tables containing the time and f0 information for each instrument."
   ]
  },
  {
   "cell_type": "code",
   "execution_count": null,
   "id": "2ca69032",
   "metadata": {},
   "outputs": [],
   "source": [
    "# Load .csv-data for each instrument\n",
    "violin_df = pd.read_csv(os.path.join('data_csv','demo_f0','01-AchGottundHerr_violin.csv'), sep=';')\n",
    "clarinet_df = pd.read_csv(os.path.join('data_csv','demo_f0','01-AchGottundHerr_clarinet.csv'), sep=';')\n",
    "saxophone_df = pd.read_csv(os.path.join('data_csv','demo_f0','01-AchGottundHerr_saxophone.csv'), sep=';')\n",
    "bassoon_df = pd.read_csv(os.path.join('data_csv','demo_f0','01-AchGottundHerr_bassoon.csv'), sep=';')\n",
    "\n",
    "print('Extract from violin_df:')\n",
    "ipd.display(violin_df.iloc[100:105])"
   ]
  },
  {
   "cell_type": "markdown",
   "id": "36ff5d20",
   "metadata": {},
   "source": [
    "For the sonification of f0 annotations with presets we use the function **sonify_f0_with_presets** from **libsoni.f0**. This function takes a dictionary with presets as key with a Nx2-dimensional numpy.ndarray containing time and f0 information as value. "
   ]
  },
  {
   "cell_type": "code",
   "execution_count": null,
   "id": "3be8220c",
   "metadata": {},
   "outputs": [],
   "source": [
    "# Create dictionary\n",
    "bach_dict = {'violin':violin_df.to_numpy(),\n",
    "             'clarinet':clarinet_df.to_numpy(),\n",
    "             'saxophone':saxophone_df.to_numpy(),\n",
    "             'bassoon':bassoon_df.to_numpy()}\n",
    "\n",
    "ipd.display(bach_dict)"
   ]
  },
  {
   "cell_type": "markdown",
   "id": "d1bbac49",
   "metadata": {},
   "source": [
    "### Working with presets\n",
    "Since the above way of customizing sounds seems a bit unintuitive and more suitable for computational applications, the **libsoni.f0** module also offers the possibility to work with presets. In the following we illustrate this approach with our Bach example.\n",
    "*(To view the different presets, see libsoni/utils/presets.json)*"
   ]
  },
  {
   "cell_type": "code",
   "execution_count": null,
   "id": "d0683fa9",
   "metadata": {},
   "outputs": [],
   "source": [
    "# get information about preset \n",
    "violin_preset = get_preset('violin')\n",
    "ipd.display(violin_preset)"
   ]
  },
  {
   "cell_type": "markdown",
   "id": "11cb7f30",
   "metadata": {},
   "source": [
    "### Sonification"
   ]
  },
  {
   "cell_type": "code",
   "execution_count": null,
   "id": "6f8efaa1",
   "metadata": {},
   "outputs": [],
   "source": [
    "bach_sonified = f0.sonify_f0_with_presets(bach_dict)\n",
    "\n",
    "bach_sonified_w_original = mix_sonification_and_original(sonification=bach_sonified,\n",
    "                                                         original_audio=bach_audio,\n",
    "                                                         gain_lin_sonification=1.0,\n",
    "                                                         gain_lin_original_audio=0.5)\n",
    "\n",
    "print('Original audio:')\n",
    "ipd.display(ipd.Audio(bach_audio, rate=Fs))\n",
    "\n",
    "print('Sonified with libsoni:')\n",
    "ipd.display(ipd.Audio(bach_sonified, rate=Fs))\n",
    "\n",
    "print('Original audio with sonification (stereo):')\n",
    "ipd.display(ipd.Audio(bach_sonified_w_original, rate=Fs))"
   ]
  },
  {
   "cell_type": "markdown",
   "id": "b6564f56",
   "metadata": {},
   "source": [
    "## Scenario 2: 'SATB'  *Locus Iste* by *Anton Bruckner* (Dagstuhl Choirset [2])\n",
    "\"Locus Iste\" is a sacred motet composed by Anton Bruckner, a renowned Austrian composer of the Romantic era. This composition, often performed in choral settings, showcases Bruckner's mastery of harmonies and expressive depth.\n",
    "\"SATB\" is an abbreviation used to describe the voicing and arrangement of a choir in choral music. It stands for Soprano, Alto, Tenor, and Bass, representing the four main vocal ranges in a choir. When applied to \"Locus Iste\" by Anton Bruckner, which is a choral composition, SATB signifies how the voices are organized and distributed within the piece.\n",
    "\n",
    "<img src=\"data/demo_f0/Locus_iste_score.png\" alt=\"Locus Iste\" width=\"800\" height=\"800\">"
   ]
  },
  {
   "cell_type": "code",
   "execution_count": null,
   "id": "189935fd",
   "metadata": {},
   "outputs": [],
   "source": [
    "satb_audio, _ = librosa.load(os.path.join('data_audio','demo_f0','DCS_LI_QuartetA_Take04_StereoReverb_STM.wav'), sr=Fs)\n",
    "\n",
    "print('\"Locus Iste\" by Anton Bruckner:')\n",
    "ipd.display(ipd.Audio(satb_audio, rate=Fs))"
   ]
  },
  {
   "cell_type": "markdown",
   "id": "148995f0",
   "metadata": {},
   "source": [
    "### Preparing the data\n",
    "For the excerpt above, we load the corresponding .csv tables containing the time and f0 information for each voice."
   ]
  },
  {
   "cell_type": "code",
   "execution_count": null,
   "id": "9dd428bd",
   "metadata": {},
   "outputs": [],
   "source": [
    "# Load .csv-data for each instrument\n",
    "soprano_df = pd.read_csv(os.path.join('data_csv','demo_f0','DCS_LI_QuartetA_Take04_S2_LRX.csv'), sep=';')\n",
    "alto_df = pd.read_csv(os.path.join('data_csv','demo_f0','DCS_LI_QuartetA_Take04_A1_LRX.csv'), sep=';')\n",
    "tenor_df = pd.read_csv(os.path.join('data_csv','demo_f0','DCS_LI_QuartetA_Take04_T1_LRX.csv'), sep=';')\n",
    "bass_df = pd.read_csv(os.path.join('data_csv','demo_f0','DCS_LI_QuartetA_Take04_B1_LRX.csv'), sep=';')\n",
    "\n",
    "print('Extract from soprano_df:')\n",
    "ipd.display(soprano_df.iloc[100:105])"
   ]
  },
  {
   "cell_type": "markdown",
   "id": "b7c3618f",
   "metadata": {},
   "source": [
    "As in the previous example, we again arrange the data as a dictionary. This time we use the presets **soprano**, **alto**, **tenor** and **bass**."
   ]
  },
  {
   "cell_type": "code",
   "execution_count": null,
   "id": "c07e7d14",
   "metadata": {},
   "outputs": [],
   "source": [
    "satb_dict = {'soprano':soprano_df.to_numpy(),\n",
    "             'alto':alto_df.to_numpy(),\n",
    "             'tenor':tenor_df.to_numpy(),\n",
    "             'bass':bass_df.to_numpy()}\n",
    "\n",
    "satb_sonified = f0.sonify_f0_with_presets(satb_dict)\n",
    "satb_sonified_w_original = mix_sonification_and_original(sonification=satb_sonified,\n",
    "                                                         original_audio=satb_audio,\n",
    "                                                         gain_lin_original_audio=0.05)\n",
    "\n",
    "print('Original audio:')\n",
    "ipd.display(ipd.Audio(satb_audio, rate=Fs))\n",
    "\n",
    "print('Sonified with libsoni')\n",
    "ipd.display(ipd.Audio(satb_sonified, rate=Fs))\n",
    "\n",
    "print('Original audio with sonification (stereo)')\n",
    "ipd.display(ipd.Audio(satb_sonified_w_original, rate=Fs))"
   ]
  },
  {
   "cell_type": "markdown",
   "id": "854f6d48",
   "metadata": {},
   "source": [
    "## References\n",
    "\n",
    "[1] Zhiyao Duan, Bryan Pardo and Changshui Zhang, “Multiple fundamental frequency estimation by modeling spectral peaks and non-peak regions,” IEEE Transactions of Audio Speech Language Process., vol. 18, no. 8, pp. 2121–2133, 2010.\n",
    "\n",
    "[2] S. Rosenzweig, H. Cuesta, C. Weiß, F. Scherbaum, E. Gómez, and M. Müller, “Dagstuhl ChoirSet: A multitrack dataset for MIR research on choral singing,” Transactions of the International Society for Music Information Retrieval (TISMIR), vol. 3, no. 1, pp. 98–110, 2020."
   ]
  }
 ],
 "metadata": {
  "kernelspec": {
   "display_name": "Python 3 (ipykernel)",
   "language": "python",
   "name": "python3"
  },
  "language_info": {
   "codemirror_mode": {
    "name": "ipython",
    "version": 3
   },
   "file_extension": ".py",
   "mimetype": "text/x-python",
   "name": "python",
   "nbconvert_exporter": "python",
   "pygments_lexer": "ipython3",
   "version": "3.8.17"
  }
 },
 "nbformat": 4,
 "nbformat_minor": 5
}
