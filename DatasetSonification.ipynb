{
 "cells": [
  {
   "cell_type": "code",
   "execution_count": null,
   "id": "9a6c757e",
   "metadata": {},
   "outputs": [],
   "source": [
    "import numpy as np\n",
    "import pandas as pd\n",
    "import os\n",
    "import librosa\n",
    "from IPython import display as ipd\n",
    "import soundfile as sf\n",
    "from tqdm import tqdm\n",
    "from libsoni.core.pianoroll import sonify_pianoroll_additive_synthesis, \\\n",
    "                                   sonify_pianoroll_fm_synthesis, \\\n",
    "                                   sonify_pianoroll_clicks, \\\n",
    "                                   sonify_pianoroll_sample, \\\n",
    "                                   visualize_pianoroll\n",
    "\n",
    "from libsoni.core.tse import sonify_tse_clicks\n",
    "from libsoni.util.utils import mix_sonification_and_original, get_preset\n",
    "\n",
    "DATASET_DIR = '/media/yiitozer/Elements/pc-pipeline/datasets/20230915_separation_transcription_dataset/train/'\n",
    "\n",
    "\n",
    "Fs=22050"
   ]
  },
  {
   "cell_type": "code",
   "execution_count": null,
   "id": "bb1f1085",
   "metadata": {},
   "outputs": [],
   "source": [
    "for item_idx in tqdm(sorted(os.listdir(DATASET_DIR))):\n",
    "    if os.path.isfile(os.path.join(DATASET_DIR, item_idx, 'piano_sonified.wav')):\n",
    "        continue\n",
    "    \n",
    "    try:\n",
    "        pc_df = pd.read_csv(os.path.join(DATASET_DIR, item_idx, 'piano.csv'),sep=';')\n",
    "    except:\n",
    "        continue\n",
    "    pc_audio, _ = librosa.load(os.path.join(DATASET_DIR, item_idx, 'piano.wav'), sr=Fs)\n",
    "    fm = sonify_pianoroll_additive_synthesis(pianoroll_df=pc_df,\n",
    "                                             partials=[1, 2, 3],\n",
    "                                             partials_amplitudes=[0.5, 0.25, 0.25])\n",
    "    clicks = sonify_pianoroll_clicks(pianoroll_df=pc_df)\n",
    "    soni = fm + clicks * 10\n",
    "\n",
    "    sonification_stereo = mix_sonification_and_original(soni, pc_audio, gain_lin_sonification=10)\n",
    "    sonification_stereo /= sonification_stereo.max()\n",
    "\n",
    "    sf.write(os.path.join(DATASET_DIR, item_idx, 'piano_sonified.wav'), sonification_stereo.T, Fs)"
   ]
  },
  {
   "cell_type": "code",
   "execution_count": null,
   "id": "3da8c096",
   "metadata": {},
   "outputs": [],
   "source": [
    "ipd.Audio(sonification_stereo, rate=Fs)"
   ]
  }
 ],
 "metadata": {
  "kernelspec": {
   "display_name": "Python 3 (ipykernel)",
   "language": "python",
   "name": "python3"
  },
  "language_info": {
   "codemirror_mode": {
    "name": "ipython",
    "version": 3
   },
   "file_extension": ".py",
   "mimetype": "text/x-python",
   "name": "python",
   "nbconvert_exporter": "python",
   "pygments_lexer": "ipython3",
   "version": "3.8.17"
  }
 },
 "nbformat": 4,
 "nbformat_minor": 5
}
