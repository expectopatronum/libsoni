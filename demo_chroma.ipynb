{
 "cells": [
  {
   "cell_type": "markdown",
   "id": "7e27922b",
   "metadata": {},
   "source": [
    "# Sonification of Chromagrams\n",
    "In this notebook, we illustrate the sonification of chromagrams using the ```libsoni.core.chroma``` module. A chromagram can be seen as a representation of the distribution of musical pitch classes, a feature often used in MIR Applications."
   ]
  },
  {
   "cell_type": "code",
   "execution_count": null,
   "id": "d42a3d8e",
   "metadata": {},
   "outputs": [],
   "source": [
    "import os\n",
    "import sys\n",
    "import numpy as np\n",
    "import librosa\n",
    "import pandas as pd\n",
    "\n",
    "from matplotlib import pyplot as plt\n",
    "import IPython.display as ipd\n",
    "\n",
    "from libsoni.util.utils import mix_sonification_and_original\n",
    "from libsoni.core.chroma import sonify_chromagram\n",
    "\n",
    "sys.path.append('..')\n",
    "import libfmp.b\n",
    "import libfmp.c8\n",
    "\n",
    "%matplotlib inline\n",
    "\n",
    "Fs = 22050"
   ]
  },
  {
   "cell_type": "markdown",
   "id": "0ca99ac0",
   "metadata": {},
   "source": [
    "## Simple Scenario: C Major Cadence\n",
    "To start with a simple example, let's look at the chords of a C major cadence: **C:maj**, **F:maj** and **G:maj**.\n",
    "<img src=\"figures/demo_chroma/C_Major_Cadence.png\" alt=\"C-Major-Triad\" width=\"500\">"
   ]
  },
  {
   "cell_type": "code",
   "execution_count": null,
   "id": "a1d74b79",
   "metadata": {},
   "outputs": [],
   "source": [
    "fn_ann = os.path.join('data_csv', 'demo_chroma', 'C_Major_Cadence.csv')\n",
    "\n",
    "note_list_df = pd.read_csv(fn_ann, sep=';')\n",
    "x_dur = note_list_df['Start'].iloc[-1] + note_list_df['Duration'].iloc[-1]\n",
    "\n",
    "note_list = [[start, dur, pitch, vel, ins] for i, \n",
    "             (start, dur, pitch, vel, ins) in note_list_df.iterrows()]\n",
    "# Chromgram from annotations\n",
    "from libsoni.core.chroma import sonify_chromagram\n",
    "\n",
    "H = 512 \n",
    "num_frames = int(x_dur*Fs / H)\n",
    "Fs_frame = Fs / H\n",
    "C_ann = libfmp.b.list_to_chromagram(note_list, num_frames, Fs_frame)\n",
    "\n",
    "title = 'Chromagram for C Major Cadence'\n",
    "libfmp.b.plot_chromagram(C_ann, Fs=Fs_frame, title=title, figsize=(8, 2.5))\n",
    "plt.show()"
   ]
  },
  {
   "cell_type": "markdown",
   "id": "288671eb",
   "metadata": {},
   "source": [
    "### Sonified C Major Cadence"
   ]
  },
  {
   "cell_type": "code",
   "execution_count": null,
   "id": "975be605",
   "metadata": {},
   "outputs": [],
   "source": [
    "# Sonification\n",
    "x_chroma_ann = sonify_chromagram(C_ann,pitch_range=[60,72+12],H=512,fs=Fs)\n",
    "print('Sonification of chroma-based respresentation (mono):')\n",
    "ipd.display(ipd.Audio(x_chroma_ann, rate=Fs))\n"
   ]
  },
  {
   "cell_type": "code",
   "execution_count": null,
   "id": "6a893b04",
   "metadata": {},
   "outputs": [],
   "source": [
    "fn_wav = os.path.join('data_audio', '##', '01-AchGottundHerr.wav')\n",
    "\n",
    "x, Fs = librosa.load(fn_wav, sr=Fs)\n",
    "\n",
    "\n",
    "import librosa, librosa.display\n",
    "C = librosa.feature.chroma_stft(y=x, sr=Fs, tuning=0, norm=0, hop_length=512, n_fft=1024)\n",
    "libfmp.b.plot_chromagram(C, Fs=Fs_frame, title=title, figsize=(8, 2.5))\n",
    "plt.show()\n",
    "\n",
    "\n",
    "\n",
    "c_test = sonify_chromagram(C,H=512,fs=22050)\n",
    "ipd.display(ipd.Audio(c_test, rate=Fs))\n"
   ]
  },
  {
   "cell_type": "code",
   "execution_count": null,
   "id": "9dd14462",
   "metadata": {},
   "outputs": [],
   "source": [
    "bach_audio, _ = librosa.load(os.path.join('data_audio','demo_f0','01-AchGottundHerr.wav'), sr=Fs)\n",
    "bach_sonified_w_original = mix_sonification_and_original(sonification=c_test,\n",
    "                                                         original_audio=bach_audio,\n",
    "                                                         gain_lin_sonification=0.2,\n",
    "                                                         gain_lin_original_audio=1)\n",
    "ipd.display(ipd.Audio(bach_sonified_w_original, rate=Fs))"
   ]
  }
 ],
 "metadata": {
  "kernelspec": {
   "display_name": "Python 3 (ipykernel)",
   "language": "python",
   "name": "python3"
  },
  "language_info": {
   "codemirror_mode": {
    "name": "ipython",
    "version": 3
   },
   "file_extension": ".py",
   "mimetype": "text/x-python",
   "name": "python",
   "nbconvert_exporter": "python",
   "pygments_lexer": "ipython3",
   "version": "3.8.17"
  }
 },
 "nbformat": 4,
 "nbformat_minor": 5
}
