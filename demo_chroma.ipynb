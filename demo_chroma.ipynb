{
 "cells": [
  {
   "cell_type": "code",
   "execution_count": null,
   "id": "d42a3d8e",
   "metadata": {},
   "outputs": [],
   "source": [
    "import os\n",
    "import sys\n",
    "import numpy as np\n",
    "import librosa\n",
    "import pandas as pd\n",
    "from matplotlib import pyplot as plt\n",
    "import IPython.display as ipd\n",
    "from libsoni.util.utils import mix_sonification_and_original\n",
    "\n",
    "sys.path.append('..')\n",
    "import libfmp.b\n",
    "import libfmp.c8\n",
    "\n",
    "%matplotlib inline\n",
    "\n",
    "Fs = 22050"
   ]
  },
  {
   "cell_type": "code",
   "execution_count": null,
   "id": "a1d74b79",
   "metadata": {},
   "outputs": [],
   "source": [
    "fn_ann = os.path.join('data_csv', '##', 'FMP_B_Sonify_Pitch_Schubert_D911-11_SC06.csv')\n",
    "fn_wav = os.path.join('data_audio', '##', 'FMP_B_Sonify_Pitch_Schubert_D911-11_SC06.wav')\n",
    "\n",
    "x, Fs = librosa.load(fn_wav, sr=Fs)\n",
    "Fs = 22050\n",
    "x_dur = len(x) / Fs\n",
    "note_list_df = pd.read_csv(fn_ann, sep=';')\n",
    "#ipd.display(ipd.HTML(note_list_df[0:10].to_html()))\n",
    "note_list = [[start, dur, pitch, vel, ins] for i, \n",
    "             (start, dur, pitch, vel, ins) in note_list_df.iterrows()]"
   ]
  },
  {
   "cell_type": "code",
   "execution_count": null,
   "id": "975be605",
   "metadata": {},
   "outputs": [],
   "source": [
    "# Chromgram from annotations\n",
    "from libsoni.core.chroma import sonify_chromagram\n",
    "\n",
    "\n",
    "H = 512 \n",
    "num_frames = int(len(x) / H)\n",
    "Fs_frame = Fs / H\n",
    "C_ann = libfmp.b.list_to_chromagram(note_list, num_frames, Fs_frame)\n",
    "title = 'Annotation chromagram (Fs_frame = %.3f)' % Fs_frame\n",
    "libfmp.b.plot_chromagram(C_ann, Fs=Fs_frame, title=title, figsize=(8, 2.5))\n",
    "plt.show()"
   ]
  },
  {
   "cell_type": "code",
   "execution_count": null,
   "id": "c22847ca",
   "metadata": {},
   "outputs": [],
   "source": [
    "# Sonification\n",
    "x_chroma_ann = sonify_chromagram(C_ann,H=512,fs=22050, fade_duration=512/22050)\n",
    "print('Sonification of chroma-based respresentation (mono):')\n",
    "ipd.display(ipd.Audio(x_chroma_ann, rate=Fs))\n",
    "print(0.01*Fs)"
   ]
  },
  {
   "cell_type": "code",
   "execution_count": null,
   "id": "731f0379",
   "metadata": {},
   "outputs": [],
   "source": [
    "ipd.display(ipd.Audio(x_chroma_ann, rate=Fs))\n",
    "print(0.24*Fs)"
   ]
  },
  {
   "cell_type": "code",
   "execution_count": null,
   "id": "6a893b04",
   "metadata": {},
   "outputs": [],
   "source": [
    "fn_wav = os.path.join('data_audio', '##', '01-AchGottundHerr.wav')\n",
    "\n",
    "x, Fs = librosa.load(fn_wav, sr=Fs)\n",
    "\n",
    "\n",
    "import librosa, librosa.display\n",
    "C = librosa.feature.chroma_stft(y=x, sr=Fs, tuning=0, norm=0, hop_length=512, n_fft=1024)\n",
    "libfmp.b.plot_chromagram(C, Fs=Fs_frame, title=title, figsize=(8, 2.5))\n",
    "plt.show()\n",
    "\n",
    "\n",
    "\n",
    "c_test = sonify_chromagram(C,H=512,fs=22050, fade_duration=0.001)\n",
    "ipd.display(ipd.Audio(c_test, rate=Fs))\n",
    "print(len(c_test))\n",
    "print(C.shape)"
   ]
  },
  {
   "cell_type": "code",
   "execution_count": null,
   "id": "9dd14462",
   "metadata": {},
   "outputs": [],
   "source": [
    "bach_audio, _ = librosa.load(os.path.join('data_audio','demo_f0','01-AchGottundHerr.wav'), sr=Fs)\n",
    "bach_sonified_w_original = mix_sonification_and_original(sonification=c_test,\n",
    "                                                         original_audio=bach_audio,\n",
    "                                                         gain_lin_sonification=1.0,\n",
    "                                                         gain_lin_original_audio=0.5)\n",
    "ipd.display(ipd.Audio(bach_sonified_w_original, rate=Fs))\n"
   ]
  },
  {
   "cell_type": "code",
   "execution_count": null,
   "id": "8f524d83",
   "metadata": {},
   "outputs": [],
   "source": [
    "int((0 - 0.5) * Fs / Fs/H)"
   ]
  },
  {
   "cell_type": "code",
   "execution_count": null,
   "id": "fd42f213",
   "metadata": {},
   "outputs": [],
   "source": [
    "int(0.05*Fs)"
   ]
  },
  {
   "cell_type": "code",
   "execution_count": null,
   "id": "58ef3575",
   "metadata": {},
   "outputs": [],
   "source": [
    "import numpy as np\n",
    "\n",
    "def linear_smooth_constant_values(arr, fade_values):\n",
    "    smoothed_arr = np.copy(arr)  # Create a copy of the original array to avoid modifying it in place\n",
    "    fade_duration = fade_values/Fs\n",
    "    for i in range(1, len(arr)):\n",
    "        if arr[i] != arr[i - 1]:\n",
    "            print('start:',i-int(fade_values/2), 'value:', arr[i-1])\n",
    "            print('end:',i+int(fade_values/2), 'value:', arr[i])\n",
    "            \n",
    "            print('smooted_arr before')\n",
    "            plt.plot(smoothed_arr[i-int(fade_values/2):i+int(fade_values/2)])\n",
    "            plt.show()\n",
    "            \n",
    "            #smoothed_arr[i-int(fade_values/2):i+int(fade_values/2)] = np.linspace(arr[i-1],arr[i],num=fade_values, dtype=float)\n",
    "            frequency = 1\n",
    "            amplitude = (np.abs(arr[i-1]-arr[i])) / 2\n",
    "            \n",
    "            \n",
    "            x = np.linspace(-1* (np.pi / 2), np.pi / 2, fade_values) * -1 * np.sign(arr[i-1]-arr[i])\n",
    "            \n",
    "            \n",
    "            y = amplitude * np.sin(frequency * x) + (arr[i-1] + arr[i]) / 2\n",
    "            \n",
    "            \n",
    "            smoothed_arr[i-int(fade_values/2):i+int(fade_values/2)] =  y\n",
    "            \n",
    "            print('smooted_arr after')\n",
    "            plt.plot(smoothed_arr[i-int(fade_values/2):i+int(fade_values/2)])\n",
    "            plt.show()\n",
    "          \n",
    "            print('linspace')\n",
    "            plt.plot(np.linspace(arr[i-1],arr[i],num=fade_values, dtype=float))\n",
    "            plt.show()\n",
    "        \n",
    "        \n",
    "    return smoothed_arr\n",
    "\n",
    "# Create your original array with constant values for 1000 consecutive indices\n",
    "original_array = np.array([0.1] * Fs + [1.0] * Fs + [0.3] *Fs)\n",
    "\n",
    "# Set the number of values to fade between constant values\n",
    "fade_values = 5000\n",
    "\n",
    "# Apply linear smoothing\n",
    "smoothed_array = linear_smooth_constant_values(original_array, fade_values)\n",
    "\n",
    "# Print the original and smoothed arrays\n",
    "print(\"Original Array:\")\n",
    "plt.plot(original_array)\n",
    "plt.show()\n",
    "print(\"\\nSmoothed Array:\")\n",
    "plt.plot(smoothed_array)\n",
    "plt.show()\n"
   ]
  },
  {
   "cell_type": "code",
   "execution_count": null,
   "id": "6ac45b5d",
   "metadata": {},
   "outputs": [],
   "source": [
    "shepard = generate_shepard_tone(pitch_class= 0,\n",
    "                                filter = False,\n",
    "                                f_center= 440.0,\n",
    "                                octave_cutoff = 1,\n",
    "                                gain= 1.0,\n",
    "                                duration= 3*Fs,\n",
    "                                fs= 22050,\n",
    "                                f_tuning= 440,\n",
    "                                fade_dur= 0) \n",
    "\n",
    "ipd.display(ipd.Audio(shepard*original_array, rate=Fs))\n",
    "ipd.display(ipd.Audio(shepard*smoothed_array, rate=Fs))"
   ]
  },
  {
   "cell_type": "code",
   "execution_count": null,
   "id": "eb40ad06",
   "metadata": {},
   "outputs": [],
   "source": []
  }
 ],
 "metadata": {
  "kernelspec": {
   "display_name": "Python 3 (ipykernel)",
   "language": "python",
   "name": "python3"
  },
  "language_info": {
   "codemirror_mode": {
    "name": "ipython",
    "version": 3
   },
   "file_extension": ".py",
   "mimetype": "text/x-python",
   "name": "python",
   "nbconvert_exporter": "python",
   "pygments_lexer": "ipython3",
   "version": "3.8.17"
  }
 },
 "nbformat": 4,
 "nbformat_minor": 5
}
