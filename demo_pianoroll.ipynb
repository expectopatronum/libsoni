{
 "cells": [
  {
   "cell_type": "markdown",
   "id": "48a769c3",
   "metadata": {},
   "source": [
    "## Sonification of Pianorolls\n"
   ]
  },
  {
   "cell_type": "code",
   "execution_count": null,
   "id": "c2175837",
   "metadata": {},
   "outputs": [],
   "source": [
    "import numpy as np\n",
    "import pandas as pd\n",
    "import os\n",
    "import librosa\n",
    "from IPython import display as ipd\n",
    "\n",
    "from libsoni.core.pianoroll import sonify_pianoroll_additive_synthesis,sonify_pianoroll_clicks, visualize_pianoroll\n",
    "from libsoni.util.utils import mix_sonification_and_original, get_preset\n",
    "\n",
    "Fs = 22050"
   ]
  },
  {
   "cell_type": "markdown",
   "id": "5c97892b",
   "metadata": {},
   "source": [
    "## Simple Scenario: C Major Triad\n",
    "\n",
    "To start with a simple example, let's look at the pitches of a **C major triad**.\n",
    "<img src=\"figures/demo_f0/C-Dur-DM.png\" alt=\"C-Major-Triad\" width=\"250\">\n",
    "The pitches of the corresponding to the notes are:\n",
    "\n",
    "| Note |      Pitch     |\n",
    "|------|----------------|\n",
    "| C4   |       60       |\n",
    "| E4   |       64       |\n",
    "| G4   |       67       |\n",
    "| C5   |       72       |"
   ]
  },
  {
   "cell_type": "markdown",
   "id": "1bd4b4ec",
   "metadata": {},
   "source": [
    "### Prepare the DataFrame "
   ]
  },
  {
   "cell_type": "code",
   "execution_count": null,
   "id": "c5dbe107",
   "metadata": {},
   "outputs": [],
   "source": [
    "cmaj_time_positions = [0.25, 1.25, 2.25, 3.25]\n",
    "cmaj_pitches = [60, 64, 67, 72]\n",
    "cmaj_durations = [0.8, 0.8, 0.8, 0.8]\n",
    "cmaj_velocities = [0.99, 0.99, 0.99, 0.99]\n",
    "\n",
    "c_maj_df = pd.DataFrame({'start': cmaj_time_positions,\n",
    "                         'pitch': cmaj_pitches,\n",
    "                         'duration': cmaj_durations,\n",
    "                         'velocity': cmaj_velocities,\n",
    "                         'label': 'piano'})\n",
    "ipd.display(c_maj_df)"
   ]
  },
  {
   "cell_type": "markdown",
   "id": "c03427c9",
   "metadata": {},
   "source": [
    "### Sonifying Time Positions with Additive Synthesis"
   ]
  },
  {
   "cell_type": "code",
   "execution_count": null,
   "id": "71506150",
   "metadata": {},
   "outputs": [],
   "source": [
    "visualize_pianoroll(c_maj_df);\n",
    "\n",
    "sonified_cmaj_as = sonify_pianoroll_additive_synthesis(pianoroll_df=c_maj_df)\n",
    "print('Sonified C Major Scale with Additive Synthesis:')\n",
    "ipd.display(ipd.Audio(sonified_cmaj_as, rate=Fs))\n",
    "\n",
    "\n",
    "sonified_cmaj_as = sonify_pianoroll_additive_synthesis(pianoroll_df=c_maj_df,\n",
    "                                                       partials=[1, 2, 3],\n",
    "                                                       partials_amplitudes=[0.5, 0.25, 0.25])\n",
    "print('Sonified C Major Scale with Additive Synthesis, using different partials:')\n",
    "ipd.display(ipd.Audio(sonified_cmaj_as, rate=Fs))"
   ]
  },
  {
   "cell_type": "markdown",
   "id": "53f5d4a3",
   "metadata": {},
   "source": [
    "### Sonifying Time Positions with Clicks"
   ]
  },
  {
   "cell_type": "code",
   "execution_count": null,
   "id": "e0e170e8",
   "metadata": {},
   "outputs": [],
   "source": [
    "# Sonify only the time positions\n",
    "sonified_cmaj_tp = sonify_pianoroll_clicks(time_positions=cmaj_time_positions)\n",
    "print('Sonified time positions with clicks:')\n",
    "ipd.display(ipd.Audio(sonified_cmaj_tp, rate=Fs))\n",
    "\n",
    "# Add pitches\n",
    "sonified_cmaj_tp_pitches = sonify_pianoroll_clicks(time_positions=cmaj_time_positions,\n",
    "                                                   pitches=cmaj_pitches)\n",
    "print('Sonified time positions with clicks and pitches:')\n",
    "ipd.display(ipd.Audio(sonified_cmaj_tp_pitches, rate=Fs))\n",
    "\n",
    "cmaj_durations = [0.2, 0.4, 0.6, 0.8]\n",
    "# Add durations as reverb durations of the clicks\n",
    "sonified_cmaj_tp_pitches_rev = sonify_pianoroll_clicks(time_positions=cmaj_time_positions,\n",
    "                                                       pitches=cmaj_pitches,\n",
    "                                                       reverb_durations=cmaj_durations)\n",
    "print('Sonified time positions with clicks and pitches and various click reverb durations:')\n",
    "ipd.display(ipd.Audio(sonified_cmaj_tp_pitches_rev, rate=Fs))\n",
    "\n",
    "\n",
    "# Add velocities\n",
    "cmaj_velocities = [0.2, 0.4, 0.6, 0.8]\n",
    "sonified_cmaj_tp_pitches_rev_vel = sonify_pianoroll_clicks(time_positions=cmaj_time_positions,\n",
    "                                                           pitches=cmaj_pitches,\n",
    "                                                           reverb_durations=cmaj_durations,\n",
    "                                                           velocities=cmaj_velocities)\n",
    "print('Sonified time positions with clicks, pitches, various reverb durations and key velocities:')\n",
    "ipd.display(ipd.Audio(sonified_cmaj_tp_pitches_rev_vel, rate=Fs))\n",
    "\n",
    "c_maj_df = pd.DataFrame({'start': cmaj_time_positions,\n",
    "                          'pitch': cmaj_pitches,\n",
    "                          'duration': cmaj_durations,\n",
    "                          'velocity': cmaj_velocities,\n",
    "                          'label': 'piano'})\n",
    "\n",
    "visualize_pianoroll(c_maj_df);"
   ]
  },
  {
   "cell_type": "markdown",
   "id": "75656e99",
   "metadata": {},
   "source": [
    "### Sonifying Time Positions using Additive Synthesis and Clicks"
   ]
  },
  {
   "cell_type": "code",
   "execution_count": null,
   "id": "d931b1c4",
   "metadata": {},
   "outputs": [],
   "source": [
    "cmaj_additive = sonify_pianoroll_additive_synthesis(pianoroll_df=c_maj_df)\n",
    "cmaj_clicks = sonify_pianoroll_clicks(time_positions=cmaj_time_positions,\n",
    "                                      pitches=cmaj_pitches,\n",
    "                                      reverb_durations=cmaj_durations)\n",
    "\n",
    "print('Sonification using additive synthesis and clicks')\n",
    "ipd.display(ipd.Audio(cmaj_additive + cmaj_clicks*10, rate=Fs))"
   ]
  },
  {
   "cell_type": "markdown",
   "id": "2e92e754",
   "metadata": {},
   "source": [
    "## Bach Fugue in C Major, BWV 846"
   ]
  },
  {
   "cell_type": "code",
   "execution_count": null,
   "id": "03acdeb3",
   "metadata": {},
   "outputs": [],
   "source": [
    "bach_df = pd.read_csv(os.path.join('data_csv',\n",
    "                                   'demo_pianoroll',\n",
    "                                   'FMP_C1_F12_Bach_BWV846_Sibelius-Tracks.csv'),delimiter=';')\n",
    "\n",
    "visualize_pianoroll(bach_df, figsize=(10, 7), colors='gist_rainbow');\n",
    "\n",
    "print('Sonified with additive synthesis:')\n",
    "sonified_bach_as = sonify_pianoroll_additive_synthesis(pianoroll_df=bach_df,\n",
    "                                                       partials=[1, 2, 3],\n",
    "                                                       partials_amplitudes=[0.5, 0.25, 0.25])\n",
    "\n",
    "print('Sonified time positions with clicks:')\n",
    "sonification_bach_tp = sonify_pianoroll_clicks(time_positions=bach_df['Start'].to_numpy())\n",
    "ipd.display(ipd.Audio(sonification_bach_tp, rate=Fs))\n",
    "\n",
    "print('Sonified time positions with clicks, and pitches:')\n",
    "sonification_bach_tp_pitches = sonify_pianoroll_clicks(time_positions=bach_df['Start'].to_numpy(),\n",
    "                                                       pitches=bach_df['Pitch'].to_numpy())\n",
    "ipd.display(ipd.Audio(sonification_bach_tp_pitches, rate=Fs))\n",
    "\n",
    "print('Sonified time positions with clicks, pitches, and reverb durations:')\n",
    "sonification_bach_tp_pitches_rev = sonify_pianoroll_clicks(time_positions=bach_df['Start'].to_numpy(),\n",
    "                                                           pitches=bach_df['Pitch'].to_numpy(),\n",
    "                                                           reverb_durations=bach_df['Duration'].to_numpy())\n",
    "ipd.display(ipd.Audio(sonification_bach_tp_pitches_rev, rate=Fs))\n",
    "\n",
    "print('Sonification using additive synthesis and clicks:')\n",
    "ipd.display(ipd.Audio(sonified_bach_as + sonification_bach_tp_pitches_rev*10, rate=Fs))"
   ]
  }
 ],
 "metadata": {
  "kernelspec": {
   "display_name": "Python 3 (ipykernel)",
   "language": "python",
   "name": "python3"
  },
  "language_info": {
   "codemirror_mode": {
    "name": "ipython",
    "version": 3
   },
   "file_extension": ".py",
   "mimetype": "text/x-python",
   "name": "python",
   "nbconvert_exporter": "python",
   "pygments_lexer": "ipython3",
   "version": "3.8.17"
  }
 },
 "nbformat": 4,
 "nbformat_minor": 5
}
