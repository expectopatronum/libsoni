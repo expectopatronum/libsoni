{
 "cells": [
  {
   "cell_type": "markdown",
   "id": "48a769c3",
   "metadata": {},
   "source": [
    "## Sonification of Pianorolls\n"
   ]
  },
  {
   "cell_type": "code",
   "execution_count": null,
   "id": "c2175837",
   "metadata": {},
   "outputs": [],
   "source": [
    "import numpy as np\n",
    "import pandas as pd\n",
    "import os\n",
    "import librosa\n",
    "from IPython import display as ipd\n",
    "\n",
    "from libsoni.core import pianoroll\n",
    "from libsoni.util.utils import mix_sonification_and_original, get_preset, visualize_piano_roll\n",
    "\n",
    "Fs= 22050"
   ]
  },
  {
   "cell_type": "markdown",
   "id": "5c97892b",
   "metadata": {},
   "source": [
    "### Simple Scenario"
   ]
  },
  {
   "cell_type": "code",
   "execution_count": null,
   "id": "7c82f4e2",
   "metadata": {},
   "outputs": [],
   "source": [
    "c_maj_df = pd.read_csv(os.path.join('data_csv','demo_pianoroll','C_major_triad_pianoroll.csv'),delimiter=';')\n",
    "c_maj_df"
   ]
  },
  {
   "cell_type": "code",
   "execution_count": null,
   "id": "a938b5ba",
   "metadata": {},
   "outputs": [],
   "source": [
    "visualize_piano_roll(c_maj_df);"
   ]
  },
  {
   "cell_type": "code",
   "execution_count": null,
   "id": "05017b17",
   "metadata": {},
   "outputs": [],
   "source": [
    "sonification_c_maj = pianoroll.sonify_pianoroll_clicks(c_maj_df)\n",
    "print('Sonified C Major triad with clicks:')\n",
    "ipd.display(ipd.Audio(sonification_c_maj, rate=Fs))"
   ]
  },
  {
   "cell_type": "code",
   "execution_count": null,
   "id": "25ebee65",
   "metadata": {},
   "outputs": [],
   "source": [
    "preset = get_preset('bassoon')\n",
    "sonification_c_maj = pianoroll.sonify_pianoroll_additive_synthesis(c_maj_df,\n",
    "                                                                  partials=preset['partials'],\n",
    "                                                                  partials_amplitudes=preset['amplitudes'])\n",
    "\n",
    "\n",
    "\n",
    "print('Sonified C Major triad with additive synthesis:')\n",
    "ipd.display(ipd.Audio(sonification_c_maj, rate=Fs))"
   ]
  },
  {
   "cell_type": "code",
   "execution_count": null,
   "id": "e0c3cd4b",
   "metadata": {},
   "outputs": [],
   "source": [
    "piano_c_60_sample, _ = librosa.load(os.path.join('data_audio','samples','01Pia1F060f_np___0_short.wav'), sr=Fs)\n",
    "\n",
    "sonification_c_maj_sample = pianoroll.sonify_pianoroll_sample(c_maj_df,\n",
    "                                                              sample=piano_c_60_sample,\n",
    "                                                              reference_pitch=60)\n",
    "print('Sonified C Major triad with warped samples:')\n",
    "ipd.display(ipd.Audio(sonification_c_maj_sample, rate=Fs))"
   ]
  },
  {
   "cell_type": "markdown",
   "id": "2e92e754",
   "metadata": {},
   "source": [
    "## Bach Fugue in C Major, BWV 846"
   ]
  },
  {
   "cell_type": "code",
   "execution_count": null,
   "id": "e9dc229e",
   "metadata": {},
   "outputs": [],
   "source": [
    "bach_df = pd.read_csv(os.path.join('data_csv','demo_pianoroll','FMP_C1_F12_Bach_BWV846_Sibelius-Tracks.csv'),delimiter=';')\n",
    "visualize_piano_roll(bach_df, figsize=(10, 7), colors='gist_rainbow');"
   ]
  },
  {
   "cell_type": "code",
   "execution_count": null,
   "id": "03acdeb3",
   "metadata": {},
   "outputs": [],
   "source": [
    "sonification_bach = pianoroll.sonify_pianoroll_clicks(bach_df)\n",
    "ipd.display(ipd.Audio(sonification_bach, rate=Fs))"
   ]
  },
  {
   "cell_type": "code",
   "execution_count": null,
   "id": "01037fd5",
   "metadata": {},
   "outputs": [],
   "source": [
    "sonification_c_maj_sample = pianoroll.sonify_pianoroll_sample(bach_df,\n",
    "                                                              sample=piano_c_60_sample,\n",
    "                                                              reference_pitch=60)\n",
    "print('Beethoven Sonification with piano sample:')\n",
    "ipd.display(ipd.Audio(sonification_c_maj_sample, rate=Fs))"
   ]
  }
 ],
 "metadata": {
  "kernelspec": {
   "display_name": "Python 3 (ipykernel)",
   "language": "python",
   "name": "python3"
  },
  "language_info": {
   "codemirror_mode": {
    "name": "ipython",
    "version": 3
   },
   "file_extension": ".py",
   "mimetype": "text/x-python",
   "name": "python",
   "nbconvert_exporter": "python",
   "pygments_lexer": "ipython3",
   "version": "3.8.17"
  }
 },
 "nbformat": 4,
 "nbformat_minor": 5
}
