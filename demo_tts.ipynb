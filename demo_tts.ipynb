{
 "cells": [
  {
   "cell_type": "markdown",
   "id": "4623fc1d",
   "metadata": {},
   "source": [
    "### Import packages"
   ]
  },
  {
   "cell_type": "code",
   "execution_count": null,
   "id": "5dfaa733",
   "metadata": {},
   "outputs": [],
   "source": [
    "import IPython.display as ipd\n",
    "import librosa\n",
    "import os\n",
    "import numpy as np\n",
    "import pandas as pd\n",
    "\n",
    "from libsoni.util.utils import mix_sonification_and_original\n",
    "\n",
    "Fs = 16000\n",
    "SILENCE_SEC = 0.5"
   ]
  },
  {
   "cell_type": "markdown",
   "id": "b7f2abf2",
   "metadata": {},
   "source": [
    "### Install required packages for TTS in addition"
   ]
  },
  {
   "cell_type": "code",
   "execution_count": null,
   "id": "2ad85685",
   "metadata": {},
   "outputs": [],
   "source": [
    "!pip install -q torch torchaudio omegaconf"
   ]
  },
  {
   "cell_type": "markdown",
   "id": "266c0f7c",
   "metadata": {},
   "source": [
    "### Load model"
   ]
  },
  {
   "cell_type": "code",
   "execution_count": null,
   "id": "b2db7034",
   "metadata": {},
   "outputs": [],
   "source": [
    "import torch\n",
    "\n",
    "model, symbols, sample_rate, example_text, apply_tts = torch.hub.load(repo_or_dir='snakers4/silero-models',\n",
    "                                                                      model='silero_tts',\n",
    "                                                                      language='en',\n",
    "                                                                      speaker='lj_16khz')"
   ]
  },
  {
   "cell_type": "code",
   "execution_count": null,
   "id": "d4376012",
   "metadata": {},
   "outputs": [],
   "source": [
    "# This is a workaround for the TTS model, as it receives the input sentences as a list\n",
    "def merge_utterances(utterances, silence_sec=SILENCE_SEC):\n",
    "    utterance_len = 0\n",
    "    for idx, audio in enumerate(utterances):\n",
    "        utterance_len += len(audio)\n",
    "        if idx != len(utterances) - 1:\n",
    "            utterance_len += int(Fs * silence_sec) \n",
    "\n",
    "    utterance = np.zeros(utterance_len)\n",
    "\n",
    "    utterance_idx = 0\n",
    "    for idx, audio in enumerate(utterances):\n",
    "        utterance[utterance_idx:utterance_idx+len(audio)] = audio\n",
    "        utterance_idx+=len(audio)\n",
    "        if idx != len(utterances) - 1:\n",
    "            utterance_idx += int(Fs * silence_sec) \n",
    "            \n",
    "    return utterance"
   ]
  },
  {
   "cell_type": "markdown",
   "id": "3de99213",
   "metadata": {},
   "source": [
    "## Scenario: Beethoven's Piano Sonata in G Major, Op.14 No.2, 1st Movement"
   ]
  },
  {
   "cell_type": "code",
   "execution_count": null,
   "id": "a4020203",
   "metadata": {},
   "outputs": [],
   "source": [
    "# Read audio\n",
    "audio, _ = librosa.load('data_audio/demo_tts/Beethoven_Op014No2-01_Kempff.wav', sr=Fs, duration=90)\n",
    "df_tts = pd.read_csv('data_csv/demo_tts/Beethoven_Op014No2-01_Kempff.csv', delimiter= ';')"
   ]
  },
  {
   "cell_type": "code",
   "execution_count": null,
   "id": "7fb8d71b",
   "metadata": {},
   "outputs": [],
   "source": [
    "list_sonifications = list()\n",
    "for idx, row in df_tts.iterrows():\n",
    "    sentences = [sentence+'.' for sentence in row['utterance'].split('.') if sentence]    \n",
    "    utterances = apply_tts(texts=sentences, \n",
    "                           model=model, \n",
    "                           sample_rate=sample_rate, \n",
    "                           symbols=symbols, \n",
    "                           device=torch.device('cpu'))\n",
    "    utterance = merge_utterances(utterances)\n",
    "    list_sonifications.append((row['start'], utterance))\n",
    "\n",
    "sonification_utterance = np.zeros(int(list_sonifications[-1][0] * Fs) + len(list_sonifications[-1][1]))\n",
    "for start, sonification in list_sonifications:\n",
    "    sonification_utterance[int(start*Fs):int(start*Fs)+len(sonification)] = sonification"
   ]
  },
  {
   "cell_type": "code",
   "execution_count": null,
   "id": "745c2786",
   "metadata": {},
   "outputs": [],
   "source": [
    "stereo_sonification = mix_sonification_and_original(audio, sonification_utterance, panning=1.0)\n",
    "\n",
    "ipd.Audio(stereo_sonification, rate=Fs)"
   ]
  }
 ],
 "metadata": {
  "kernelspec": {
   "display_name": "Python 3",
   "language": "python",
   "name": "python3"
  },
  "language_info": {
   "codemirror_mode": {
    "name": "ipython",
    "version": 3
   },
   "file_extension": ".py",
   "mimetype": "text/x-python",
   "name": "python",
   "nbconvert_exporter": "python",
   "pygments_lexer": "ipython3",
   "version": "3.7.13"
  }
 },
 "nbformat": 4,
 "nbformat_minor": 5
}
